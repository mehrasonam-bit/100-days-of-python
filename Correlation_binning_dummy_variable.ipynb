{
 "cells": [
  {
   "cell_type": "markdown",
   "id": "1512babc",
   "metadata": {},
   "source": [
    "\n",
    "<html>\n",
    "<head>\n",
    "<style>\n",
    ".city {\n",
    "  background-color: tomato;\n",
    "  color: white;\n",
    "  border: 2px solid black;\n",
    "  margin: 20px;\n",
    "  padding: 20px;\n",
    "}\n",
    "</style>\n",
    "</head>\n",
    "<body>"
   ]
  },
  {
   "cell_type": "markdown",
   "id": "83b1d526",
   "metadata": {},
   "source": [
    "\n",
    "<html>\n",
    "<head>\n",
    "<style>\n",
    ".question {\n",
    "  color: red;\n",
    "  border: 2px solid black;\n",
    "  margin: 20px;\n",
    "  padding: 20px;\n",
    "}\n",
    "</style>\n",
    "</head>\n",
    "<body>"
   ]
  },
  {
   "cell_type": "code",
   "execution_count": 1,
   "id": "789890cb",
   "metadata": {},
   "outputs": [],
   "source": [
    "#Import Python Libraries\n",
    "import pandas as pd\n",
    "import matplotlib.pyplot as plt\n",
    "import numpy as np\n",
    "import scipy as sp\n",
    "import seaborn as sns\n"
   ]
  },
  {
   "cell_type": "markdown",
   "id": "e6bf1063",
   "metadata": {},
   "source": [
    "<html>\n",
    "<h1 style=\"color:navy\">Question 1:</h1>\n",
    "<i> Read the “FuelEfficiency.csv” dataset</i>\n",
    "</html>\n"
   ]
  },
  {
   "cell_type": "code",
   "execution_count": 2,
   "id": "9a09193a",
   "metadata": {},
   "outputs": [
    {
     "name": "stdout",
     "output_type": "stream",
     "text": [
      "            Model  Eng Size  Cylinders   MSRP  City_L/100km  Highway_L/100km  \\\n",
      "0              A4       1.8          4  25550          12.8              9.1   \n",
      "1        3_Series       2.5          6  28100          14.1              9.7   \n",
      "2             G35       3.5          6  28150          15.7             10.9   \n",
      "3          X-Type       2.5          6  29330          14.9             10.1   \n",
      "4         C-class       1.8          4  29250          12.8              9.4   \n",
      "..            ...       ...        ...    ...           ...              ...   \n",
      "79     Element_EX       2.4          4  19700          12.8             10.9   \n",
      "80     Escape_XLS       3.0          6  20400          14.9             11.3   \n",
      "81  Liberty_Sport       2.4          4  18380          14.9             11.8   \n",
      "82      Xterra_XE       3.3          6  20500          18.8             14.9   \n",
      "83            VUE       2.2          4  19005          12.8             10.1   \n",
      "\n",
      "    Weight_in_Pounds   Type  Country  \n",
      "0               3252  Sedan  Germany  \n",
      "1               3219  Sedan  Germany  \n",
      "2               3336  Sedan    Japan  \n",
      "3               3428  Sedan  England  \n",
      "4               3250  Sedan  Germany  \n",
      "..               ...    ...      ...  \n",
      "79              3441    SUV    Japan  \n",
      "80              3181    SUV       US  \n",
      "81              3648    SUV       US  \n",
      "82              3777    SUV    Japan  \n",
      "83              3260    SUV       US  \n",
      "\n",
      "[84 rows x 9 columns]\n"
     ]
    }
   ],
   "source": [
    "#read json file from the directory\n",
    "df = pd.read_csv(\"FuelEfficiency.csv\")\n",
    "print(df) #print the dataframe"
   ]
  },
  {
   "cell_type": "markdown",
   "id": "d49dc0ac",
   "metadata": {},
   "source": [
    "<html>\n",
    "<h1 style=\"color:navy\">Question 2:</h1>\n",
    "<i> Which pair of the variables in the dataset are most strongly correlated? Which pair \n",
    "of the variables in the dataset are most weakly correlated? Justify your answer using any \n",
    "suitable plot</i>\n",
    "</html>\n"
   ]
  },
  {
   "cell_type": "code",
   "execution_count": 3,
   "id": "fb19cb26",
   "metadata": {},
   "outputs": [
    {
     "data": {
      "text/html": [
       "<div>\n",
       "<style scoped>\n",
       "    .dataframe tbody tr th:only-of-type {\n",
       "        vertical-align: middle;\n",
       "    }\n",
       "\n",
       "    .dataframe tbody tr th {\n",
       "        vertical-align: top;\n",
       "    }\n",
       "\n",
       "    .dataframe thead th {\n",
       "        text-align: right;\n",
       "    }\n",
       "</style>\n",
       "<table border=\"1\" class=\"dataframe\">\n",
       "  <thead>\n",
       "    <tr style=\"text-align: right;\">\n",
       "      <th></th>\n",
       "      <th>Eng Size</th>\n",
       "      <th>Cylinders</th>\n",
       "      <th>MSRP</th>\n",
       "      <th>City_L/100km</th>\n",
       "      <th>Highway_L/100km</th>\n",
       "      <th>Weight_in_Pounds</th>\n",
       "    </tr>\n",
       "  </thead>\n",
       "  <tbody>\n",
       "    <tr>\n",
       "      <th>Eng Size</th>\n",
       "      <td>1.00</td>\n",
       "      <td>0.91</td>\n",
       "      <td>0.69</td>\n",
       "      <td>0.85</td>\n",
       "      <td>0.74</td>\n",
       "      <td>0.76</td>\n",
       "    </tr>\n",
       "    <tr>\n",
       "      <th>Cylinders</th>\n",
       "      <td>0.91</td>\n",
       "      <td>1.00</td>\n",
       "      <td>0.75</td>\n",
       "      <td>0.80</td>\n",
       "      <td>0.67</td>\n",
       "      <td>0.72</td>\n",
       "    </tr>\n",
       "    <tr>\n",
       "      <th>MSRP</th>\n",
       "      <td>0.69</td>\n",
       "      <td>0.75</td>\n",
       "      <td>1.00</td>\n",
       "      <td>0.65</td>\n",
       "      <td>0.55</td>\n",
       "      <td>0.59</td>\n",
       "    </tr>\n",
       "    <tr>\n",
       "      <th>City_L/100km</th>\n",
       "      <td>0.85</td>\n",
       "      <td>0.80</td>\n",
       "      <td>0.65</td>\n",
       "      <td>1.00</td>\n",
       "      <td>0.87</td>\n",
       "      <td>0.86</td>\n",
       "    </tr>\n",
       "    <tr>\n",
       "      <th>Highway_L/100km</th>\n",
       "      <td>0.74</td>\n",
       "      <td>0.67</td>\n",
       "      <td>0.55</td>\n",
       "      <td>0.87</td>\n",
       "      <td>1.00</td>\n",
       "      <td>0.91</td>\n",
       "    </tr>\n",
       "    <tr>\n",
       "      <th>Weight_in_Pounds</th>\n",
       "      <td>0.76</td>\n",
       "      <td>0.72</td>\n",
       "      <td>0.59</td>\n",
       "      <td>0.86</td>\n",
       "      <td>0.91</td>\n",
       "      <td>1.00</td>\n",
       "    </tr>\n",
       "  </tbody>\n",
       "</table>\n",
       "</div>"
      ],
      "text/plain": [
       "                  Eng Size  Cylinders  MSRP  City_L/100km  Highway_L/100km  \\\n",
       "Eng Size              1.00       0.91  0.69          0.85             0.74   \n",
       "Cylinders             0.91       1.00  0.75          0.80             0.67   \n",
       "MSRP                  0.69       0.75  1.00          0.65             0.55   \n",
       "City_L/100km          0.85       0.80  0.65          1.00             0.87   \n",
       "Highway_L/100km       0.74       0.67  0.55          0.87             1.00   \n",
       "Weight_in_Pounds      0.76       0.72  0.59          0.86             0.91   \n",
       "\n",
       "                  Weight_in_Pounds  \n",
       "Eng Size                      0.76  \n",
       "Cylinders                     0.72  \n",
       "MSRP                          0.59  \n",
       "City_L/100km                  0.86  \n",
       "Highway_L/100km               0.91  \n",
       "Weight_in_Pounds              1.00  "
      ]
     },
     "execution_count": 3,
     "metadata": {},
     "output_type": "execute_result"
    }
   ],
   "source": [
    "corrmatrix=df.corr()\n",
    "round(corrmatrix,2)"
   ]
  },
  {
   "cell_type": "markdown",
   "id": "038a82c6",
   "metadata": {},
   "source": [
    "from the above output we can see mostly correlated columns are Eng Size, Cylinders and Highway_L/100km , Weight\n",
    "-in_pounds.\n",
    "\n",
    "And,\n",
    "From the above output we can see two weakly correlated columns are Highway_L/100km   MSRP"
   ]
  },
  {
   "cell_type": "code",
   "execution_count": 16,
   "id": "7c109064",
   "metadata": {},
   "outputs": [
    {
     "data": {
      "text/plain": [
       "<AxesSubplot:>"
      ]
     },
     "execution_count": 16,
     "metadata": {},
     "output_type": "execute_result"
    },
    {
     "data": {
      "image/png": "[encoded data removed]",
      "text/plain": [
       "<Figure size 792x648 with 2 Axes>"
      ]
     },
     "metadata": {
      "needs_background": "light"
     },
     "output_type": "display_data"
    }
   ],
   "source": [
    "## Generate a mask for the upper triangle\n",
    "mask = np.triu(np.ones_like(corrmatrix, dtype=bool))\n",
    "\n",
    "# Set up the matplotlib figure\n",
    "f, ax = plt.subplots(figsize=(11, 9))\n",
    "\n",
    "# Generate a custom diverging colormap\n",
    "cmap = sns.diverging_palette(230, 20, as_cmap=True)\n",
    "\n",
    "\n",
    "\n",
    "\n",
    "# Draw the heatmap with the mask and correct aspect ratio\n",
    "sns.heatmap(corrmatrix, mask=mask)"
   ]
  },
  {
   "cell_type": "markdown",
   "id": "155a087b",
   "metadata": {},
   "source": [
    "<html>\n",
    "<h1 style=\"color:navy\">Question 3:</h1>\n",
    "<i> What are the minimum and maximum weights (in pounds) in the dataset?</i>\n",
    "</html>\n"
   ]
  },
  {
   "cell_type": "code",
   "execution_count": 8,
   "id": "233dbfce",
   "metadata": {},
   "outputs": [
    {
     "data": {
      "text/plain": [
       "6400"
      ]
     },
     "execution_count": 8,
     "metadata": {},
     "output_type": "execute_result"
    }
   ],
   "source": [
    "#maximum weight in pounds\n",
    "\n",
    "maxWeight=df['Weight_in_Pounds'].max()\n",
    "maxWeight"
   ]
  },
  {
   "cell_type": "code",
   "execution_count": 10,
   "id": "f4e8ad0c",
   "metadata": {},
   "outputs": [
    {
     "data": {
      "text/plain": [
       "2469"
      ]
     },
     "execution_count": 10,
     "metadata": {},
     "output_type": "execute_result"
    }
   ],
   "source": [
    "#minimum weight in pounds\n",
    "\n",
    "minWeight=df['Weight_in_Pounds'].min()\n",
    "minWeight"
   ]
  },
  {
   "cell_type": "markdown",
   "id": "7f22a385",
   "metadata": {},
   "source": [
    "<html>\n",
    "<h1 style=\"color:navy\">Question 4:</h1>\n",
    "<i> Add a column to the dataset to filter the weight in pounds variable. More\n",
    "specifically, create a column that has the value 1 for cars whose weight is less than 4000 pounds,\n",
    "and the value 0 for cars whose weight is greater than or equal to 4000 pounds. Essentially, we\n",
    "will use this filter to restrict the range of the weight variable to under 4000 pounds.\n",
    "</i>\n",
    "</html>"
   ]
  },
  {
   "cell_type": "code",
   "execution_count": 12,
   "id": "a75e2a4f",
   "metadata": {},
   "outputs": [
    {
     "data": {
      "text/html": [
       "<div>\n",
       "<style scoped>\n",
       "    .dataframe tbody tr th:only-of-type {\n",
       "        vertical-align: middle;\n",
       "    }\n",
       "\n",
       "    .dataframe tbody tr th {\n",
       "        vertical-align: top;\n",
       "    }\n",
       "\n",
       "    .dataframe thead th {\n",
       "        text-align: right;\n",
       "    }\n",
       "</style>\n",
       "<table border=\"1\" class=\"dataframe\">\n",
       "  <thead>\n",
       "    <tr style=\"text-align: right;\">\n",
       "      <th></th>\n",
       "      <th>Model</th>\n",
       "      <th>Eng Size</th>\n",
       "      <th>Cylinders</th>\n",
       "      <th>MSRP</th>\n",
       "      <th>City_L/100km</th>\n",
       "      <th>Highway_L/100km</th>\n",
       "      <th>Weight_in_Pounds</th>\n",
       "      <th>Type</th>\n",
       "      <th>Country</th>\n",
       "      <th>weight_value</th>\n",
       "    </tr>\n",
       "  </thead>\n",
       "  <tbody>\n",
       "    <tr>\n",
       "      <th>28</th>\n",
       "      <td>Crown_Victoria_LX</td>\n",
       "      <td>4.6</td>\n",
       "      <td>8</td>\n",
       "      <td>27220</td>\n",
       "      <td>16.6</td>\n",
       "      <td>11.3</td>\n",
       "      <td>4057</td>\n",
       "      <td>Sedan</td>\n",
       "      <td>US</td>\n",
       "      <td>0</td>\n",
       "    </tr>\n",
       "    <tr>\n",
       "      <th>32</th>\n",
       "      <td>A8_L</td>\n",
       "      <td>4.2</td>\n",
       "      <td>8</td>\n",
       "      <td>68500</td>\n",
       "      <td>16.6</td>\n",
       "      <td>11.8</td>\n",
       "      <td>4399</td>\n",
       "      <td>Sedan</td>\n",
       "      <td>Germany</td>\n",
       "      <td>0</td>\n",
       "    </tr>\n",
       "    <tr>\n",
       "      <th>33</th>\n",
       "      <td>745i</td>\n",
       "      <td>4.4</td>\n",
       "      <td>8</td>\n",
       "      <td>69300</td>\n",
       "      <td>15.7</td>\n",
       "      <td>10.9</td>\n",
       "      <td>4376</td>\n",
       "      <td>Sedan</td>\n",
       "      <td>Germany</td>\n",
       "      <td>0</td>\n",
       "    </tr>\n",
       "    <tr>\n",
       "      <th>35</th>\n",
       "      <td>S-Class</td>\n",
       "      <td>4.3</td>\n",
       "      <td>8</td>\n",
       "      <td>74250</td>\n",
       "      <td>16.6</td>\n",
       "      <td>11.8</td>\n",
       "      <td>4160</td>\n",
       "      <td>Sedan</td>\n",
       "      <td>Germany</td>\n",
       "      <td>0</td>\n",
       "    </tr>\n",
       "    <tr>\n",
       "      <th>48</th>\n",
       "      <td>Sedona_EX</td>\n",
       "      <td>3.5</td>\n",
       "      <td>6</td>\n",
       "      <td>22085</td>\n",
       "      <td>18.8</td>\n",
       "      <td>14.1</td>\n",
       "      <td>4802</td>\n",
       "      <td>Minivan</td>\n",
       "      <td>Korea</td>\n",
       "      <td>0</td>\n",
       "    </tr>\n",
       "  </tbody>\n",
       "</table>\n",
       "</div>"
      ],
      "text/plain": [
       "                Model  Eng Size  Cylinders   MSRP  City_L/100km  \\\n",
       "28  Crown_Victoria_LX       4.6          8  27220          16.6   \n",
       "32               A8_L       4.2          8  68500          16.6   \n",
       "33               745i       4.4          8  69300          15.7   \n",
       "35            S-Class       4.3          8  74250          16.6   \n",
       "48          Sedona_EX       3.5          6  22085          18.8   \n",
       "\n",
       "    Highway_L/100km  Weight_in_Pounds     Type  Country  weight_value  \n",
       "28             11.3              4057    Sedan       US             0  \n",
       "32             11.8              4399    Sedan  Germany             0  \n",
       "33             10.9              4376    Sedan  Germany             0  \n",
       "35             11.8              4160    Sedan  Germany             0  \n",
       "48             14.1              4802  Minivan    Korea             0  "
      ]
     },
     "execution_count": 12,
     "metadata": {},
     "output_type": "execute_result"
    }
   ],
   "source": [
    "\n",
    "#where function is used for making new column with the conditions provided\n",
    "#np.where(condition, value if condition is true, value if condition is false)\n",
    "df['weight_value']= np.where(df['Weight_in_Pounds']>=4000,0,1)\n",
    "zero_value = df[df['weight_value'] == 0].head() #shows value with weight greater than or equal to 4000 pounds\n",
    "zero_value"
   ]
  },
  {
   "cell_type": "code",
   "execution_count": 13,
   "id": "d1527b23",
   "metadata": {},
   "outputs": [
    {
     "data": {
      "text/html": [
       "<div>\n",
       "<style scoped>\n",
       "    .dataframe tbody tr th:only-of-type {\n",
       "        vertical-align: middle;\n",
       "    }\n",
       "\n",
       "    .dataframe tbody tr th {\n",
       "        vertical-align: top;\n",
       "    }\n",
       "\n",
       "    .dataframe thead th {\n",
       "        text-align: right;\n",
       "    }\n",
       "</style>\n",
       "<table border=\"1\" class=\"dataframe\">\n",
       "  <thead>\n",
       "    <tr style=\"text-align: right;\">\n",
       "      <th></th>\n",
       "      <th>Model</th>\n",
       "      <th>Eng Size</th>\n",
       "      <th>Cylinders</th>\n",
       "      <th>MSRP</th>\n",
       "      <th>City_L/100km</th>\n",
       "      <th>Highway_L/100km</th>\n",
       "      <th>Weight_in_Pounds</th>\n",
       "      <th>Type</th>\n",
       "      <th>Country</th>\n",
       "      <th>weight_value</th>\n",
       "    </tr>\n",
       "  </thead>\n",
       "  <tbody>\n",
       "    <tr>\n",
       "      <th>0</th>\n",
       "      <td>A4</td>\n",
       "      <td>1.8</td>\n",
       "      <td>4</td>\n",
       "      <td>25550</td>\n",
       "      <td>12.8</td>\n",
       "      <td>9.1</td>\n",
       "      <td>3252</td>\n",
       "      <td>Sedan</td>\n",
       "      <td>Germany</td>\n",
       "      <td>1</td>\n",
       "    </tr>\n",
       "    <tr>\n",
       "      <th>1</th>\n",
       "      <td>3_Series</td>\n",
       "      <td>2.5</td>\n",
       "      <td>6</td>\n",
       "      <td>28100</td>\n",
       "      <td>14.1</td>\n",
       "      <td>9.7</td>\n",
       "      <td>3219</td>\n",
       "      <td>Sedan</td>\n",
       "      <td>Germany</td>\n",
       "      <td>1</td>\n",
       "    </tr>\n",
       "    <tr>\n",
       "      <th>2</th>\n",
       "      <td>G35</td>\n",
       "      <td>3.5</td>\n",
       "      <td>6</td>\n",
       "      <td>28150</td>\n",
       "      <td>15.7</td>\n",
       "      <td>10.9</td>\n",
       "      <td>3336</td>\n",
       "      <td>Sedan</td>\n",
       "      <td>Japan</td>\n",
       "      <td>1</td>\n",
       "    </tr>\n",
       "    <tr>\n",
       "      <th>3</th>\n",
       "      <td>X-Type</td>\n",
       "      <td>2.5</td>\n",
       "      <td>6</td>\n",
       "      <td>29330</td>\n",
       "      <td>14.9</td>\n",
       "      <td>10.1</td>\n",
       "      <td>3428</td>\n",
       "      <td>Sedan</td>\n",
       "      <td>England</td>\n",
       "      <td>1</td>\n",
       "    </tr>\n",
       "    <tr>\n",
       "      <th>4</th>\n",
       "      <td>C-class</td>\n",
       "      <td>1.8</td>\n",
       "      <td>4</td>\n",
       "      <td>29250</td>\n",
       "      <td>12.8</td>\n",
       "      <td>9.4</td>\n",
       "      <td>3250</td>\n",
       "      <td>Sedan</td>\n",
       "      <td>Germany</td>\n",
       "      <td>1</td>\n",
       "    </tr>\n",
       "  </tbody>\n",
       "</table>\n",
       "</div>"
      ],
      "text/plain": [
       "      Model  Eng Size  Cylinders   MSRP  City_L/100km  Highway_L/100km  \\\n",
       "0        A4       1.8          4  25550          12.8              9.1   \n",
       "1  3_Series       2.5          6  28100          14.1              9.7   \n",
       "2       G35       3.5          6  28150          15.7             10.9   \n",
       "3    X-Type       2.5          6  29330          14.9             10.1   \n",
       "4   C-class       1.8          4  29250          12.8              9.4   \n",
       "\n",
       "   Weight_in_Pounds   Type  Country  weight_value  \n",
       "0              3252  Sedan  Germany             1  \n",
       "1              3219  Sedan  Germany             1  \n",
       "2              3336  Sedan    Japan             1  \n",
       "3              3428  Sedan  England             1  \n",
       "4              3250  Sedan  Germany             1  "
      ]
     },
     "execution_count": 13,
     "metadata": {},
     "output_type": "execute_result"
    }
   ],
   "source": [
    "one_value = df[df['weight_value'] == 1].head() #shows value with weight less than 4000 pounds\n",
    "one_value"
   ]
  },
  {
   "cell_type": "markdown",
   "id": "24b5b384",
   "metadata": {},
   "source": [
    "<html>\n",
    "<h1 style=\"color:navy\">Question 5:</h1>\n",
    "<i> Determine the correlation between weight in pounds and litres of fuel consumed per\n",
    "100 km on the highway only for cars with a weight less than 4000 pounds. How does this value\n",
    "compare to the value obtained when considering all cars?\n",
    "</i>\n",
    "</html>"
   ]
  },
  {
   "cell_type": "code",
   "execution_count": 14,
   "id": "7fc7c0ac",
   "metadata": {},
   "outputs": [
    {
     "data": {
      "text/plain": [
       "0.91"
      ]
     },
     "execution_count": 14,
     "metadata": {},
     "output_type": "execute_result"
    }
   ],
   "source": [
    "#coorelation between two columns for all the cars\n",
    "corcolumn=df['Weight_in_Pounds'].corr(df['Highway_L/100km'])\n",
    "corcolumn.round(2)"
   ]
  },
  {
   "cell_type": "code",
   "execution_count": 15,
   "id": "06d8c474",
   "metadata": {},
   "outputs": [
    {
     "data": {
      "text/plain": [
       "0.72"
      ]
     },
     "execution_count": 15,
     "metadata": {},
     "output_type": "execute_result"
    }
   ],
   "source": [
    "#coorelation between two columns for cars with a weight less than 4000 pounds\n",
    "cor_with_condition=df[df['weight_value']==1].corr().loc['Weight_in_Pounds', 'Highway_L/100km']\n",
    "cor_with_condition.round(2)\n"
   ]
  },
  {
   "cell_type": "markdown",
   "id": "77f9c8bf",
   "metadata": {},
   "source": [
    "Correlation with weight less than 4000 pounds is less than the correlation with all the cars"
   ]
  },
  {
   "cell_type": "markdown",
   "id": "eac17221",
   "metadata": {},
   "source": [
    "<html>\n",
    "<h1 style=\"color:navy\">Question 6:</h1>\n",
    "<i> Suppose I created a subset of the data to restrict the weight to between 3000 and\n",
    "4000 pounds. Would the correlation between highway fuel consumption and weight subject to\n",
    "this restriction be greater than or less than the value you obtained in Question 7? Explain.\n",
    "</i>\n",
    "</html>"
   ]
  },
  {
   "cell_type": "code",
   "execution_count": 24,
   "id": "14862330",
   "metadata": {},
   "outputs": [
    {
     "data": {
      "text/html": [
       "<div>\n",
       "<style scoped>\n",
       "    .dataframe tbody tr th:only-of-type {\n",
       "        vertical-align: middle;\n",
       "    }\n",
       "\n",
       "    .dataframe tbody tr th {\n",
       "        vertical-align: top;\n",
       "    }\n",
       "\n",
       "    .dataframe thead th {\n",
       "        text-align: right;\n",
       "    }\n",
       "</style>\n",
       "<table border=\"1\" class=\"dataframe\">\n",
       "  <thead>\n",
       "    <tr style=\"text-align: right;\">\n",
       "      <th></th>\n",
       "      <th>Model</th>\n",
       "      <th>Eng Size</th>\n",
       "      <th>Cylinders</th>\n",
       "      <th>MSRP</th>\n",
       "      <th>City_L/100km</th>\n",
       "      <th>Highway_L/100km</th>\n",
       "      <th>Weight_in_Pounds</th>\n",
       "      <th>Type</th>\n",
       "      <th>Country</th>\n",
       "      <th>weight_value</th>\n",
       "    </tr>\n",
       "  </thead>\n",
       "  <tbody>\n",
       "    <tr>\n",
       "      <th>0</th>\n",
       "      <td>A4</td>\n",
       "      <td>1.8</td>\n",
       "      <td>4</td>\n",
       "      <td>25550</td>\n",
       "      <td>12.8</td>\n",
       "      <td>9.1</td>\n",
       "      <td>3252</td>\n",
       "      <td>Sedan</td>\n",
       "      <td>Germany</td>\n",
       "      <td>1</td>\n",
       "    </tr>\n",
       "    <tr>\n",
       "      <th>1</th>\n",
       "      <td>3_Series</td>\n",
       "      <td>2.5</td>\n",
       "      <td>6</td>\n",
       "      <td>28100</td>\n",
       "      <td>14.1</td>\n",
       "      <td>9.7</td>\n",
       "      <td>3219</td>\n",
       "      <td>Sedan</td>\n",
       "      <td>Germany</td>\n",
       "      <td>1</td>\n",
       "    </tr>\n",
       "  </tbody>\n",
       "</table>\n",
       "</div>"
      ],
      "text/plain": [
       "      Model  Eng Size  Cylinders   MSRP  City_L/100km  Highway_L/100km  \\\n",
       "0        A4       1.8          4  25550          12.8              9.1   \n",
       "1  3_Series       2.5          6  28100          14.1              9.7   \n",
       "\n",
       "   Weight_in_Pounds   Type  Country  weight_value  \n",
       "0              3252  Sedan  Germany             1  \n",
       "1              3219  Sedan  Germany             1  "
      ]
     },
     "execution_count": 24,
     "metadata": {},
     "output_type": "execute_result"
    }
   ],
   "source": [
    "subset=df[(df['Weight_in_Pounds']>3000) & (df['Weight_in_Pounds']<4000)] #creates a subset of the dataset with only car weight\n",
    "                                                                        #between 3000 and 4000 pounds\n",
    "subset.head(2)"
   ]
  },
  {
   "cell_type": "code",
   "execution_count": 32,
   "id": "aa30fc60",
   "metadata": {},
   "outputs": [
    {
     "data": {
      "text/plain": [
       "0.53"
      ]
     },
     "execution_count": 32,
     "metadata": {},
     "output_type": "execute_result"
    }
   ],
   "source": [
    "#correlation\n",
    "cor_of_subset=subset['Highway_L/100km'].corr(subset['Weight_in_Pounds'])\n",
    "cor_of_subset.round(2)"
   ]
  },
  {
   "cell_type": "markdown",
   "id": "6990b036",
   "metadata": {},
   "source": [
    "<html>\n",
    "<h1 style=\"color:navy\">Question 7:</h1>\n",
    "<i> Calculate the correlation coefficient between highway fuel consumption and weight\n",
    "for vehicles with a weight between 3000 and 4000 pounds.\n",
    "</i>\n",
    "</html>"
   ]
  },
  {
   "cell_type": "code",
   "execution_count": 31,
   "id": "5caded46",
   "metadata": {},
   "outputs": [
    {
     "data": {
      "text/plain": [
       "0.5331992637793957"
      ]
     },
     "execution_count": 31,
     "metadata": {},
     "output_type": "execute_result"
    }
   ],
   "source": [
    "# step 3 Now we can verify our result by calculating the corrolation coeffient\n",
    "\n",
    "# calculate Pearson's correlation\n",
    "\n",
    "corr, _ = sp.stats.pearsonr(subset['Highway_L/100km'], subset['Weight_in_Pounds'])\n",
    "\n",
    "# check the value of the corrolation\n",
    "corr"
   ]
  },
  {
   "cell_type": "code",
   "execution_count": null,
   "id": "4bfb0077",
   "metadata": {},
   "outputs": [],
   "source": []
  }
 ],
 "metadata": {
  "kernelspec": {
   "display_name": "Python 3",
   "language": "python",
   "name": "python3"
  },
  "language_info": {
   "codemirror_mode": {
    "name": "ipython",
    "version": 3
   },
   "file_extension": ".py",
   "mimetype": "text/x-python",
   "name": "python",
   "nbconvert_exporter": "python",
   "pygments_lexer": "ipython3",
   "version": "3.8.8"
  }
 },
 "nbformat": 4,
 "nbformat_minor": 5
}
