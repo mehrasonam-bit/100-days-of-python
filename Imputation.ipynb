{
 "cells": [
  {
   "cell_type": "markdown",
   "id": "a5ad5670",
   "metadata": {},
   "source": [
    "<html>\n",
    "    <h1 style=\"color:navy\"><b><center>Assignment 3</center></b></h1>\n",
    "\n",
    "</html>"
   ]
  },
  {
   "cell_type": "markdown",
   "id": "a124f238",
   "metadata": {},
   "source": [
    "# Sonam Mehra\n",
    "\n",
    "## Student Id: A00213174"
   ]
  },
  {
   "cell_type": "markdown",
   "id": "98415d62",
   "metadata": {},
   "source": [
    "### import libraries\n",
    "\n"
   ]
  },
  {
   "cell_type": "code",
   "execution_count": null,
   "id": "eee3c327",
   "metadata": {},
   "outputs": [],
   "source": [
    "#Import Python Libraries\n",
    "import numpy as np\n",
    "import matplotlib.pyplot as plt\n",
    "import pandas as pd\n",
    "from sklearn.preprocessing import StandardScaler\n",
    "from sklearn.model_selection import train_test_split\n",
    "from sklearn.linear_model import LogisticRegression\n",
    "from sklearn import linear_model \n",
    "from sklearn.metrics import confusion_matrix\n",
    "from sklearn import metrics\n",
    "from sklearn.preprocessing import LabelEncoder "
   ]
  },
  {
   "cell_type": "code",
   "execution_count": null,
   "id": "3ad24459",
   "metadata": {},
   "outputs": [],
   "source": [
    "#Import Python Libraries\n",
    "import pandas as pd\n",
    "import numpy as np\n",
    "import seaborn as sns"
   ]
  },
  {
   "cell_type": "code",
   "execution_count": null,
   "id": "281eee26",
   "metadata": {},
   "outputs": [],
   "source": [
    "# explicitly require this experimental feature\n",
    "from sklearn.experimental import enable_iterative_imputer\n",
    "from sklearn.impute import IterativeImputer"
   ]
  },
  {
   "cell_type": "markdown",
   "id": "a58061a9",
   "metadata": {},
   "source": [
    "<html>\n",
    "<h1 style=\"color: maroon\">Question 1:</h1>\n",
    "<i> Read the airquality.csv data set. This gives the ozone level, solar radiation, wind\n",
    "speed, and temperature (in degrees Fahrenheit) over five months</i>\n",
    "</html>"
   ]
  },
  {
   "cell_type": "code",
   "execution_count": null,
   "id": "6010483f",
   "metadata": {},
   "outputs": [],
   "source": [
    "#read dataset\n",
    "air = pd.read_csv(\"airquality.csv\")\n",
    "air"
   ]
  },
  {
   "cell_type": "markdown",
   "id": "aa695a87",
   "metadata": {},
   "source": [
    "<html>\n",
    "    <i> <b>a:</b> How many missing values are present for each variable?</i>\n",
    "\n",
    "</html>"
   ]
  },
  {
   "cell_type": "code",
   "execution_count": null,
   "id": "d9e7459f",
   "metadata": {},
   "outputs": [],
   "source": [
    "#to check which variable has missing values true stands for missing values, false for no missing value\n",
    "air.isnull().any()"
   ]
  },
  {
   "cell_type": "code",
   "execution_count": null,
   "id": "ab51953c",
   "metadata": {},
   "outputs": [],
   "source": [
    "print(air.isnull().sum())"
   ]
  },
  {
   "cell_type": "markdown",
   "id": "471e86e1",
   "metadata": {},
   "source": [
    "<html>\n",
    "    <i> <b>b:</b> Create a data frame of complete cases and find the mean temperature using listwise deletion </i>\n",
    "\n",
    "</html>"
   ]
  },
  {
   "cell_type": "code",
   "execution_count": null,
   "id": "3e5d909e",
   "metadata": {},
   "outputs": [],
   "source": [
    "df_air=air.dropna(axis=0) #deletes rows with null values\n",
    "df_air"
   ]
  },
  {
   "cell_type": "code",
   "execution_count": null,
   "id": "f13a319f",
   "metadata": {},
   "outputs": [],
   "source": [
    "# mean temperature\n",
    "\n",
    "print(\"The mean of the temperature with listwise deletion is\",round(df_air['Temp'].mean(),2))"
   ]
  },
  {
   "cell_type": "markdown",
   "id": "445037d1",
   "metadata": {},
   "source": [
    "<html>\n",
    "    <i> <b>c:</b> Find the mean temperature using pairwise deletion </i>\n",
    "\n",
    "</html>"
   ]
  },
  {
   "cell_type": "code",
   "execution_count": null,
   "id": "13a7043f",
   "metadata": {},
   "outputs": [],
   "source": [
    "df_air_pair=air.copy() #creates copy of the dataframe"
   ]
  },
  {
   "cell_type": "code",
   "execution_count": null,
   "id": "55344b44",
   "metadata": {},
   "outputs": [],
   "source": [
    "print(\"The mean of the temperature with listwise deletion is\",round(df_air_pair.Temp.mean(),2)) #All operations in pandas like mean,sum etc intrinsically skip missing values."
   ]
  },
  {
   "cell_type": "markdown",
   "id": "3211b917",
   "metadata": {},
   "source": [
    "<html>\n",
    "    <i> <b>d:</b> Which rows contain missing temperature values? </i>\n",
    "\n",
    "</html>"
   ]
  },
  {
   "cell_type": "code",
   "execution_count": null,
   "id": "cf933105",
   "metadata": {},
   "outputs": [],
   "source": [
    "null_data = air[air['Temp'].isnull()] #rows with missing temp values\n",
    "null_data"
   ]
  },
  {
   "cell_type": "markdown",
   "id": "4dc98021",
   "metadata": {},
   "source": [
    "<html>\n",
    "    <i> <b>e:</b> Create a box plot for the air quality data. Interpret the plot to explain why there are differences in the mean temperature. </i>\n",
    "\n",
    "</html>"
   ]
  },
  {
   "cell_type": "code",
   "execution_count": 324,
   "id": "65685260",
   "metadata": {},
   "outputs": [
    {
     "data": {
      "text/plain": [
       "<AxesSubplot:xlabel='Month', ylabel='Temp'>"
      ]
     },
     "execution_count": 324,
     "metadata": {},
     "output_type": "execute_result"
    },
    {
     "data": {
      "image/png": "[encoded data removed]",
      "text/plain": [
       "<Figure size 432x288 with 1 Axes>"
      ]
     },
     "metadata": {
      "needs_background": "light"
     },
     "output_type": "display_data"
    }
   ],
   "source": [
    "sns.boxplot(x='Month',y='Temp', data=air)"
   ]
  },
  {
   "cell_type": "markdown",
   "id": "d2f2c1d0",
   "metadata": {},
   "source": [
    "<html>\n",
    "    <i> <b>f:</b> How many of the ozone values are outliers (using the default 1.5 IQR setting)? What are the ozone outlier values? Create a new data frame called ozone_complete that has all rows with ozone outliers removed.</i>\n",
    "\n",
    "</html>"
   ]
  },
  {
   "cell_type": "code",
   "execution_count": 325,
   "id": "25b9a889",
   "metadata": {},
   "outputs": [
    {
     "name": "stdout",
     "output_type": "stream",
     "text": [
      "45.25\n"
     ]
    }
   ],
   "source": [
    "Q1=air.Ozone.quantile(0.25)\n",
    "Q3=air.Ozone.quantile(0.75)\n",
    "IQR=Q3-Q1\n",
    "print(IQR)"
   ]
  },
  {
   "cell_type": "code",
   "execution_count": 326,
   "id": "3fc49965",
   "metadata": {},
   "outputs": [],
   "source": [
    "df_final=air[~((air.Ozone<(Q1-1.5*IQR))|(air.Ozone>(Q3+1.5*IQR)))] #removes the outliers #which doesnt fall in this range is outlier\n"
   ]
  },
  {
   "cell_type": "code",
   "execution_count": 327,
   "id": "b23417f2",
   "metadata": {},
   "outputs": [
    {
     "data": {
      "text/html": [
       "<div>\n",
       "<style scoped>\n",
       "    .dataframe tbody tr th:only-of-type {\n",
       "        vertical-align: middle;\n",
       "    }\n",
       "\n",
       "    .dataframe tbody tr th {\n",
       "        vertical-align: top;\n",
       "    }\n",
       "\n",
       "    .dataframe thead th {\n",
       "        text-align: right;\n",
       "    }\n",
       "</style>\n",
       "<table border=\"1\" class=\"dataframe\">\n",
       "  <thead>\n",
       "    <tr style=\"text-align: right;\">\n",
       "      <th></th>\n",
       "      <th>Ozone</th>\n",
       "      <th>Solar.R</th>\n",
       "      <th>Wind</th>\n",
       "      <th>Temp</th>\n",
       "      <th>Month</th>\n",
       "      <th>Day</th>\n",
       "    </tr>\n",
       "  </thead>\n",
       "  <tbody>\n",
       "    <tr>\n",
       "      <th>0</th>\n",
       "      <td>41.0</td>\n",
       "      <td>190.0</td>\n",
       "      <td>7.4</td>\n",
       "      <td>67.0</td>\n",
       "      <td>5</td>\n",
       "      <td>1</td>\n",
       "    </tr>\n",
       "    <tr>\n",
       "      <th>1</th>\n",
       "      <td>36.0</td>\n",
       "      <td>118.0</td>\n",
       "      <td>8.0</td>\n",
       "      <td>72.0</td>\n",
       "      <td>5</td>\n",
       "      <td>2</td>\n",
       "    </tr>\n",
       "    <tr>\n",
       "      <th>2</th>\n",
       "      <td>12.0</td>\n",
       "      <td>149.0</td>\n",
       "      <td>12.6</td>\n",
       "      <td>74.0</td>\n",
       "      <td>5</td>\n",
       "      <td>3</td>\n",
       "    </tr>\n",
       "    <tr>\n",
       "      <th>3</th>\n",
       "      <td>18.0</td>\n",
       "      <td>313.0</td>\n",
       "      <td>11.5</td>\n",
       "      <td>62.0</td>\n",
       "      <td>5</td>\n",
       "      <td>4</td>\n",
       "    </tr>\n",
       "    <tr>\n",
       "      <th>4</th>\n",
       "      <td>NaN</td>\n",
       "      <td>NaN</td>\n",
       "      <td>14.3</td>\n",
       "      <td>56.0</td>\n",
       "      <td>5</td>\n",
       "      <td>5</td>\n",
       "    </tr>\n",
       "    <tr>\n",
       "      <th>...</th>\n",
       "      <td>...</td>\n",
       "      <td>...</td>\n",
       "      <td>...</td>\n",
       "      <td>...</td>\n",
       "      <td>...</td>\n",
       "      <td>...</td>\n",
       "    </tr>\n",
       "    <tr>\n",
       "      <th>148</th>\n",
       "      <td>30.0</td>\n",
       "      <td>193.0</td>\n",
       "      <td>6.9</td>\n",
       "      <td>70.0</td>\n",
       "      <td>9</td>\n",
       "      <td>26</td>\n",
       "    </tr>\n",
       "    <tr>\n",
       "      <th>149</th>\n",
       "      <td>NaN</td>\n",
       "      <td>145.0</td>\n",
       "      <td>13.2</td>\n",
       "      <td>77.0</td>\n",
       "      <td>9</td>\n",
       "      <td>27</td>\n",
       "    </tr>\n",
       "    <tr>\n",
       "      <th>150</th>\n",
       "      <td>14.0</td>\n",
       "      <td>191.0</td>\n",
       "      <td>14.3</td>\n",
       "      <td>75.0</td>\n",
       "      <td>9</td>\n",
       "      <td>28</td>\n",
       "    </tr>\n",
       "    <tr>\n",
       "      <th>151</th>\n",
       "      <td>18.0</td>\n",
       "      <td>131.0</td>\n",
       "      <td>8.0</td>\n",
       "      <td>76.0</td>\n",
       "      <td>9</td>\n",
       "      <td>29</td>\n",
       "    </tr>\n",
       "    <tr>\n",
       "      <th>152</th>\n",
       "      <td>20.0</td>\n",
       "      <td>223.0</td>\n",
       "      <td>11.5</td>\n",
       "      <td>68.0</td>\n",
       "      <td>9</td>\n",
       "      <td>30</td>\n",
       "    </tr>\n",
       "  </tbody>\n",
       "</table>\n",
       "<p>151 rows × 6 columns</p>\n",
       "</div>"
      ],
      "text/plain": [
       "     Ozone  Solar.R  Wind  Temp  Month  Day\n",
       "0     41.0    190.0   7.4  67.0      5    1\n",
       "1     36.0    118.0   8.0  72.0      5    2\n",
       "2     12.0    149.0  12.6  74.0      5    3\n",
       "3     18.0    313.0  11.5  62.0      5    4\n",
       "4      NaN      NaN  14.3  56.0      5    5\n",
       "..     ...      ...   ...   ...    ...  ...\n",
       "148   30.0    193.0   6.9  70.0      9   26\n",
       "149    NaN    145.0  13.2  77.0      9   27\n",
       "150   14.0    191.0  14.3  75.0      9   28\n",
       "151   18.0    131.0   8.0  76.0      9   29\n",
       "152   20.0    223.0  11.5  68.0      9   30\n",
       "\n",
       "[151 rows x 6 columns]"
      ]
     },
     "execution_count": 327,
     "metadata": {},
     "output_type": "execute_result"
    }
   ],
   "source": [
    "df_final"
   ]
  },
  {
   "cell_type": "code",
   "execution_count": 328,
   "id": "b9f2ba94",
   "metadata": {},
   "outputs": [],
   "source": [
    "df_outlier_removed=pd.DataFrame(df_final) #creates the dataframe with removed outlier values\n",
    "ind_diff=air.index.difference(df_outlier_removed.index) #index differnce between two data frames"
   ]
  },
  {
   "cell_type": "code",
   "execution_count": 329,
   "id": "9b812a20",
   "metadata": {},
   "outputs": [
    {
     "name": "stdout",
     "output_type": "stream",
     "text": [
      "The number of outlier values in Ozone Column is : 2\n"
     ]
    }
   ],
   "source": [
    "\n",
    "print(\"The number of outlier values in Ozone Column is :\",len(ind_diff))"
   ]
  },
  {
   "cell_type": "code",
   "execution_count": 330,
   "id": "f79344d9",
   "metadata": {},
   "outputs": [
    {
     "data": {
      "text/plain": [
       "Int64Index([61, 116], dtype='int64')"
      ]
     },
     "execution_count": 330,
     "metadata": {},
     "output_type": "execute_result"
    }
   ],
   "source": [
    "ind_diff #the values of outliers are 61,116"
   ]
  },
  {
   "cell_type": "markdown",
   "id": "bc99c65f",
   "metadata": {},
   "source": [
    "<html>\n",
    "<h1 style=\"color: maroon\">Question 2:</h1>\n",
    "<i> Using the original airqualty.csv</i>\n",
    "</html>"
   ]
  },
  {
   "cell_type": "code",
   "execution_count": 331,
   "id": "2099f923",
   "metadata": {},
   "outputs": [
    {
     "data": {
      "text/html": [
       "<div>\n",
       "<style scoped>\n",
       "    .dataframe tbody tr th:only-of-type {\n",
       "        vertical-align: middle;\n",
       "    }\n",
       "\n",
       "    .dataframe tbody tr th {\n",
       "        vertical-align: top;\n",
       "    }\n",
       "\n",
       "    .dataframe thead th {\n",
       "        text-align: right;\n",
       "    }\n",
       "</style>\n",
       "<table border=\"1\" class=\"dataframe\">\n",
       "  <thead>\n",
       "    <tr style=\"text-align: right;\">\n",
       "      <th></th>\n",
       "      <th>Ozone</th>\n",
       "      <th>Solar.R</th>\n",
       "      <th>Wind</th>\n",
       "      <th>Temp</th>\n",
       "      <th>Month</th>\n",
       "      <th>Day</th>\n",
       "    </tr>\n",
       "  </thead>\n",
       "  <tbody>\n",
       "    <tr>\n",
       "      <th>0</th>\n",
       "      <td>41.0</td>\n",
       "      <td>190.0</td>\n",
       "      <td>7.4</td>\n",
       "      <td>67.0</td>\n",
       "      <td>5</td>\n",
       "      <td>1</td>\n",
       "    </tr>\n",
       "    <tr>\n",
       "      <th>1</th>\n",
       "      <td>36.0</td>\n",
       "      <td>118.0</td>\n",
       "      <td>8.0</td>\n",
       "      <td>72.0</td>\n",
       "      <td>5</td>\n",
       "      <td>2</td>\n",
       "    </tr>\n",
       "    <tr>\n",
       "      <th>2</th>\n",
       "      <td>12.0</td>\n",
       "      <td>149.0</td>\n",
       "      <td>12.6</td>\n",
       "      <td>74.0</td>\n",
       "      <td>5</td>\n",
       "      <td>3</td>\n",
       "    </tr>\n",
       "    <tr>\n",
       "      <th>3</th>\n",
       "      <td>18.0</td>\n",
       "      <td>313.0</td>\n",
       "      <td>11.5</td>\n",
       "      <td>62.0</td>\n",
       "      <td>5</td>\n",
       "      <td>4</td>\n",
       "    </tr>\n",
       "    <tr>\n",
       "      <th>4</th>\n",
       "      <td>NaN</td>\n",
       "      <td>NaN</td>\n",
       "      <td>14.3</td>\n",
       "      <td>56.0</td>\n",
       "      <td>5</td>\n",
       "      <td>5</td>\n",
       "    </tr>\n",
       "    <tr>\n",
       "      <th>...</th>\n",
       "      <td>...</td>\n",
       "      <td>...</td>\n",
       "      <td>...</td>\n",
       "      <td>...</td>\n",
       "      <td>...</td>\n",
       "      <td>...</td>\n",
       "    </tr>\n",
       "    <tr>\n",
       "      <th>148</th>\n",
       "      <td>30.0</td>\n",
       "      <td>193.0</td>\n",
       "      <td>6.9</td>\n",
       "      <td>70.0</td>\n",
       "      <td>9</td>\n",
       "      <td>26</td>\n",
       "    </tr>\n",
       "    <tr>\n",
       "      <th>149</th>\n",
       "      <td>NaN</td>\n",
       "      <td>145.0</td>\n",
       "      <td>13.2</td>\n",
       "      <td>77.0</td>\n",
       "      <td>9</td>\n",
       "      <td>27</td>\n",
       "    </tr>\n",
       "    <tr>\n",
       "      <th>150</th>\n",
       "      <td>14.0</td>\n",
       "      <td>191.0</td>\n",
       "      <td>14.3</td>\n",
       "      <td>75.0</td>\n",
       "      <td>9</td>\n",
       "      <td>28</td>\n",
       "    </tr>\n",
       "    <tr>\n",
       "      <th>151</th>\n",
       "      <td>18.0</td>\n",
       "      <td>131.0</td>\n",
       "      <td>8.0</td>\n",
       "      <td>76.0</td>\n",
       "      <td>9</td>\n",
       "      <td>29</td>\n",
       "    </tr>\n",
       "    <tr>\n",
       "      <th>152</th>\n",
       "      <td>20.0</td>\n",
       "      <td>223.0</td>\n",
       "      <td>11.5</td>\n",
       "      <td>68.0</td>\n",
       "      <td>9</td>\n",
       "      <td>30</td>\n",
       "    </tr>\n",
       "  </tbody>\n",
       "</table>\n",
       "<p>153 rows × 6 columns</p>\n",
       "</div>"
      ],
      "text/plain": [
       "     Ozone  Solar.R  Wind  Temp  Month  Day\n",
       "0     41.0    190.0   7.4  67.0      5    1\n",
       "1     36.0    118.0   8.0  72.0      5    2\n",
       "2     12.0    149.0  12.6  74.0      5    3\n",
       "3     18.0    313.0  11.5  62.0      5    4\n",
       "4      NaN      NaN  14.3  56.0      5    5\n",
       "..     ...      ...   ...   ...    ...  ...\n",
       "148   30.0    193.0   6.9  70.0      9   26\n",
       "149    NaN    145.0  13.2  77.0      9   27\n",
       "150   14.0    191.0  14.3  75.0      9   28\n",
       "151   18.0    131.0   8.0  76.0      9   29\n",
       "152   20.0    223.0  11.5  68.0      9   30\n",
       "\n",
       "[153 rows x 6 columns]"
      ]
     },
     "execution_count": 331,
     "metadata": {},
     "output_type": "execute_result"
    }
   ],
   "source": [
    "#read dataset\n",
    "air_q = pd.read_csv(\"airquality.csv\")\n",
    "air_q"
   ]
  },
  {
   "cell_type": "markdown",
   "id": "19439fff",
   "metadata": {},
   "source": [
    "<html>\n",
    "    <i> <b>a:</b> Create a new data set called air_median from the air data set. Impute the missing solar radiation values with the MEDIAN of the non-missing radiations in the air_median dataset. </i>\n",
    "\n",
    "</html>"
   ]
  },
  {
   "cell_type": "code",
   "execution_count": 332,
   "id": "e78ce04b",
   "metadata": {},
   "outputs": [],
   "source": [
    "air_median=air_q.copy()"
   ]
  },
  {
   "cell_type": "code",
   "execution_count": 333,
   "id": "2b734c12",
   "metadata": {},
   "outputs": [
    {
     "data": {
      "text/html": [
       "<div>\n",
       "<style scoped>\n",
       "    .dataframe tbody tr th:only-of-type {\n",
       "        vertical-align: middle;\n",
       "    }\n",
       "\n",
       "    .dataframe tbody tr th {\n",
       "        vertical-align: top;\n",
       "    }\n",
       "\n",
       "    .dataframe thead th {\n",
       "        text-align: right;\n",
       "    }\n",
       "</style>\n",
       "<table border=\"1\" class=\"dataframe\">\n",
       "  <thead>\n",
       "    <tr style=\"text-align: right;\">\n",
       "      <th></th>\n",
       "      <th>Ozone</th>\n",
       "      <th>Solar.R</th>\n",
       "      <th>Wind</th>\n",
       "      <th>Temp</th>\n",
       "      <th>Month</th>\n",
       "      <th>Day</th>\n",
       "    </tr>\n",
       "  </thead>\n",
       "  <tbody>\n",
       "    <tr>\n",
       "      <th>0</th>\n",
       "      <td>41.0</td>\n",
       "      <td>190.0</td>\n",
       "      <td>7.4</td>\n",
       "      <td>67.0</td>\n",
       "      <td>5</td>\n",
       "      <td>1</td>\n",
       "    </tr>\n",
       "    <tr>\n",
       "      <th>1</th>\n",
       "      <td>36.0</td>\n",
       "      <td>118.0</td>\n",
       "      <td>8.0</td>\n",
       "      <td>72.0</td>\n",
       "      <td>5</td>\n",
       "      <td>2</td>\n",
       "    </tr>\n",
       "    <tr>\n",
       "      <th>2</th>\n",
       "      <td>12.0</td>\n",
       "      <td>149.0</td>\n",
       "      <td>12.6</td>\n",
       "      <td>74.0</td>\n",
       "      <td>5</td>\n",
       "      <td>3</td>\n",
       "    </tr>\n",
       "    <tr>\n",
       "      <th>3</th>\n",
       "      <td>18.0</td>\n",
       "      <td>313.0</td>\n",
       "      <td>11.5</td>\n",
       "      <td>62.0</td>\n",
       "      <td>5</td>\n",
       "      <td>4</td>\n",
       "    </tr>\n",
       "    <tr>\n",
       "      <th>4</th>\n",
       "      <td>NaN</td>\n",
       "      <td>NaN</td>\n",
       "      <td>14.3</td>\n",
       "      <td>56.0</td>\n",
       "      <td>5</td>\n",
       "      <td>5</td>\n",
       "    </tr>\n",
       "  </tbody>\n",
       "</table>\n",
       "</div>"
      ],
      "text/plain": [
       "   Ozone  Solar.R  Wind  Temp  Month  Day\n",
       "0   41.0    190.0   7.4  67.0      5    1\n",
       "1   36.0    118.0   8.0  72.0      5    2\n",
       "2   12.0    149.0  12.6  74.0      5    3\n",
       "3   18.0    313.0  11.5  62.0      5    4\n",
       "4    NaN      NaN  14.3  56.0      5    5"
      ]
     },
     "execution_count": 333,
     "metadata": {},
     "output_type": "execute_result"
    }
   ],
   "source": [
    "air_median.head()"
   ]
  },
  {
   "cell_type": "markdown",
   "id": "80bc0eb5",
   "metadata": {},
   "source": [
    "<html>\n",
    "<h4>Calculate the median of the column </h4>\n",
    "    </html>"
   ]
  },
  {
   "cell_type": "code",
   "execution_count": 334,
   "id": "5045276c",
   "metadata": {},
   "outputs": [
    {
     "name": "stdout",
     "output_type": "stream",
     "text": [
      "Median Solar Radiation: 205.0\n"
     ]
    }
   ],
   "source": [
    "med_solar = air_median[\"Solar.R\"].astype(\"float\").median(axis=0)\n",
    "print(\"Median Solar Radiation:\", med_solar)"
   ]
  },
  {
   "cell_type": "markdown",
   "id": "34eb230b",
   "metadata": {},
   "source": [
    "<html>\n",
    "<h4>Replace \"NaN\" by median value in \"Solar.R\" column</h4>\n",
    " </html>"
   ]
  },
  {
   "cell_type": "code",
   "execution_count": 335,
   "id": "66143064",
   "metadata": {},
   "outputs": [
    {
     "data": {
      "text/plain": [
       "False    153\n",
       "Name: Solar.R, dtype: int64"
      ]
     },
     "execution_count": 335,
     "metadata": {},
     "output_type": "execute_result"
    }
   ],
   "source": [
    "air_median[\"Solar.R\"].replace(np.nan, med_solar, inplace=True)\n",
    "#check if still any value not replaced\n",
    "air_median[\"Solar.R\"].isnull().value_counts()"
   ]
  },
  {
   "cell_type": "markdown",
   "id": "5fd58276",
   "metadata": {},
   "source": [
    "<html>\n",
    "<h4> b : Create a new data set called air_mean from the air_median data set. Impute the missing temperature values with the mean temperature for the month that the temperature is missing from in the air_mean data set. For example, impute missing month 5 temperature values with the mean of the non-missing temperatures for month 5.</h4>\n",
    "    </html>"
   ]
  },
  {
   "cell_type": "code",
   "execution_count": 336,
   "id": "c6f0ea46",
   "metadata": {},
   "outputs": [],
   "source": [
    "air_mean=air_median.copy()"
   ]
  },
  {
   "cell_type": "code",
   "execution_count": 337,
   "id": "c52e9c8f",
   "metadata": {},
   "outputs": [],
   "source": [
    "mean_value =air_mean.groupby(\"Month\")[\"Temp\"].mean()"
   ]
  },
  {
   "cell_type": "code",
   "execution_count": 338,
   "id": "decf9686",
   "metadata": {},
   "outputs": [
    {
     "data": {
      "text/plain": [
       "Month\n",
       "5    65.700000\n",
       "6    78.965517\n",
       "7    84.172414\n",
       "8    83.967742\n",
       "9    76.758621\n",
       "Name: Temp, dtype: float64"
      ]
     },
     "execution_count": 338,
     "metadata": {},
     "output_type": "execute_result"
    }
   ],
   "source": [
    "mean_value"
   ]
  },
  {
   "cell_type": "code",
   "execution_count": 339,
   "id": "f5142ec3",
   "metadata": {},
   "outputs": [],
   "source": [
    "for index, row in air_mean.iterrows():\n",
    "    if pd.isnull(row['Temp']):\n",
    "        month = air_mean.loc[index,'Month']\n",
    "        air_mean.loc[index,'Temp'] = mean_value.loc[month]"
   ]
  },
  {
   "cell_type": "code",
   "execution_count": 340,
   "id": "28ad4067",
   "metadata": {},
   "outputs": [
    {
     "data": {
      "text/plain": [
       "False    153\n",
       "Name: Temp, dtype: int64"
      ]
     },
     "execution_count": 340,
     "metadata": {},
     "output_type": "execute_result"
    }
   ],
   "source": [
    "air_mean['Temp'].isnull().value_counts()"
   ]
  },
  {
   "cell_type": "markdown",
   "id": "486ec7a1",
   "metadata": {},
   "source": [
    "<html>\n",
    "<h4> c : Create a new data set called air_ratio from the air_mean data set. Impute the missing values of the Ozone variable using ratio imputation in the air_ratio data set\n",
    "    </html>"
   ]
  },
  {
   "cell_type": "code",
   "execution_count": 341,
   "id": "b0208120",
   "metadata": {},
   "outputs": [],
   "source": [
    "air_ratio=air_mean.copy()"
   ]
  },
  {
   "cell_type": "code",
   "execution_count": 342,
   "id": "dfe983f3",
   "metadata": {},
   "outputs": [
    {
     "data": {
      "text/plain": [
       "True"
      ]
     },
     "execution_count": 342,
     "metadata": {},
     "output_type": "execute_result"
    }
   ],
   "source": [
    "air_ratio['Ozone'].isnull().any()"
   ]
  },
  {
   "cell_type": "code",
   "execution_count": 343,
   "id": "4ca392b9",
   "metadata": {},
   "outputs": [
    {
     "data": {
      "text/html": [
       "<div>\n",
       "<style scoped>\n",
       "    .dataframe tbody tr th:only-of-type {\n",
       "        vertical-align: middle;\n",
       "    }\n",
       "\n",
       "    .dataframe tbody tr th {\n",
       "        vertical-align: top;\n",
       "    }\n",
       "\n",
       "    .dataframe thead th {\n",
       "        text-align: right;\n",
       "    }\n",
       "</style>\n",
       "<table border=\"1\" class=\"dataframe\">\n",
       "  <thead>\n",
       "    <tr style=\"text-align: right;\">\n",
       "      <th></th>\n",
       "      <th>Ozone</th>\n",
       "      <th>Solar.R</th>\n",
       "      <th>Wind</th>\n",
       "      <th>Temp</th>\n",
       "      <th>Month</th>\n",
       "      <th>Day</th>\n",
       "    </tr>\n",
       "  </thead>\n",
       "  <tbody>\n",
       "    <tr>\n",
       "      <th>Ozone</th>\n",
       "      <td>1.000000</td>\n",
       "      <td>0.343494</td>\n",
       "      <td>-0.601291</td>\n",
       "      <td>0.691783</td>\n",
       "      <td>0.164519</td>\n",
       "      <td>-0.013226</td>\n",
       "    </tr>\n",
       "    <tr>\n",
       "      <th>Solar.R</th>\n",
       "      <td>0.343494</td>\n",
       "      <td>1.000000</td>\n",
       "      <td>-0.017791</td>\n",
       "      <td>0.239893</td>\n",
       "      <td>-0.077812</td>\n",
       "      <td>-0.152965</td>\n",
       "    </tr>\n",
       "    <tr>\n",
       "      <th>Wind</th>\n",
       "      <td>-0.601291</td>\n",
       "      <td>-0.017791</td>\n",
       "      <td>1.000000</td>\n",
       "      <td>-0.469539</td>\n",
       "      <td>-0.184129</td>\n",
       "      <td>0.096955</td>\n",
       "    </tr>\n",
       "    <tr>\n",
       "      <th>Temp</th>\n",
       "      <td>0.691783</td>\n",
       "      <td>0.239893</td>\n",
       "      <td>-0.469539</td>\n",
       "      <td>1.000000</td>\n",
       "      <td>0.416809</td>\n",
       "      <td>-0.138610</td>\n",
       "    </tr>\n",
       "    <tr>\n",
       "      <th>Month</th>\n",
       "      <td>0.164519</td>\n",
       "      <td>-0.077812</td>\n",
       "      <td>-0.184129</td>\n",
       "      <td>0.416809</td>\n",
       "      <td>1.000000</td>\n",
       "      <td>-0.007962</td>\n",
       "    </tr>\n",
       "    <tr>\n",
       "      <th>Day</th>\n",
       "      <td>-0.013226</td>\n",
       "      <td>-0.152965</td>\n",
       "      <td>0.096955</td>\n",
       "      <td>-0.138610</td>\n",
       "      <td>-0.007962</td>\n",
       "      <td>1.000000</td>\n",
       "    </tr>\n",
       "  </tbody>\n",
       "</table>\n",
       "</div>"
      ],
      "text/plain": [
       "            Ozone   Solar.R      Wind      Temp     Month       Day\n",
       "Ozone    1.000000  0.343494 -0.601291  0.691783  0.164519 -0.013226\n",
       "Solar.R  0.343494  1.000000 -0.017791  0.239893 -0.077812 -0.152965\n",
       "Wind    -0.601291 -0.017791  1.000000 -0.469539 -0.184129  0.096955\n",
       "Temp     0.691783  0.239893 -0.469539  1.000000  0.416809 -0.138610\n",
       "Month    0.164519 -0.077812 -0.184129  0.416809  1.000000 -0.007962\n",
       "Day     -0.013226 -0.152965  0.096955 -0.138610 -0.007962  1.000000"
      ]
     },
     "execution_count": 343,
     "metadata": {},
     "output_type": "execute_result"
    }
   ],
   "source": [
    "air_ratio.corr() #check for highly correlated columns #ozone and Temp"
   ]
  },
  {
   "cell_type": "code",
   "execution_count": 344,
   "id": "e8d966d9",
   "metadata": {},
   "outputs": [],
   "source": [
    "sum_temp=round(air_ratio['Temp'].sum(),2)\n",
    "sum_ozone=round(air_ratio['Ozone'].sum(),2)\n",
    "ratio=round(sum_ozone/sum_temp,2)"
   ]
  },
  {
   "cell_type": "code",
   "execution_count": 345,
   "id": "ebff0f37",
   "metadata": {},
   "outputs": [
    {
     "name": "stdout",
     "output_type": "stream",
     "text": [
      "The ratio is  0.41\n"
     ]
    }
   ],
   "source": [
    "print(\"The ratio is \",ratio)"
   ]
  },
  {
   "cell_type": "code",
   "execution_count": 346,
   "id": "c68a595c",
   "metadata": {},
   "outputs": [
    {
     "data": {
      "text/html": [
       "<div>\n",
       "<style scoped>\n",
       "    .dataframe tbody tr th:only-of-type {\n",
       "        vertical-align: middle;\n",
       "    }\n",
       "\n",
       "    .dataframe tbody tr th {\n",
       "        vertical-align: top;\n",
       "    }\n",
       "\n",
       "    .dataframe thead th {\n",
       "        text-align: right;\n",
       "    }\n",
       "</style>\n",
       "<table border=\"1\" class=\"dataframe\">\n",
       "  <thead>\n",
       "    <tr style=\"text-align: right;\">\n",
       "      <th></th>\n",
       "      <th>Ozone</th>\n",
       "      <th>Solar.R</th>\n",
       "      <th>Wind</th>\n",
       "      <th>Temp</th>\n",
       "      <th>Month</th>\n",
       "      <th>Day</th>\n",
       "    </tr>\n",
       "  </thead>\n",
       "  <tbody>\n",
       "    <tr>\n",
       "      <th>0</th>\n",
       "      <td>41.00</td>\n",
       "      <td>190.0</td>\n",
       "      <td>7.4</td>\n",
       "      <td>67.0</td>\n",
       "      <td>5</td>\n",
       "      <td>1</td>\n",
       "    </tr>\n",
       "    <tr>\n",
       "      <th>1</th>\n",
       "      <td>36.00</td>\n",
       "      <td>118.0</td>\n",
       "      <td>8.0</td>\n",
       "      <td>72.0</td>\n",
       "      <td>5</td>\n",
       "      <td>2</td>\n",
       "    </tr>\n",
       "    <tr>\n",
       "      <th>2</th>\n",
       "      <td>12.00</td>\n",
       "      <td>149.0</td>\n",
       "      <td>12.6</td>\n",
       "      <td>74.0</td>\n",
       "      <td>5</td>\n",
       "      <td>3</td>\n",
       "    </tr>\n",
       "    <tr>\n",
       "      <th>3</th>\n",
       "      <td>18.00</td>\n",
       "      <td>313.0</td>\n",
       "      <td>11.5</td>\n",
       "      <td>62.0</td>\n",
       "      <td>5</td>\n",
       "      <td>4</td>\n",
       "    </tr>\n",
       "    <tr>\n",
       "      <th>4</th>\n",
       "      <td>22.96</td>\n",
       "      <td>205.0</td>\n",
       "      <td>14.3</td>\n",
       "      <td>56.0</td>\n",
       "      <td>5</td>\n",
       "      <td>5</td>\n",
       "    </tr>\n",
       "    <tr>\n",
       "      <th>...</th>\n",
       "      <td>...</td>\n",
       "      <td>...</td>\n",
       "      <td>...</td>\n",
       "      <td>...</td>\n",
       "      <td>...</td>\n",
       "      <td>...</td>\n",
       "    </tr>\n",
       "    <tr>\n",
       "      <th>148</th>\n",
       "      <td>30.00</td>\n",
       "      <td>193.0</td>\n",
       "      <td>6.9</td>\n",
       "      <td>70.0</td>\n",
       "      <td>9</td>\n",
       "      <td>26</td>\n",
       "    </tr>\n",
       "    <tr>\n",
       "      <th>149</th>\n",
       "      <td>31.57</td>\n",
       "      <td>145.0</td>\n",
       "      <td>13.2</td>\n",
       "      <td>77.0</td>\n",
       "      <td>9</td>\n",
       "      <td>27</td>\n",
       "    </tr>\n",
       "    <tr>\n",
       "      <th>150</th>\n",
       "      <td>14.00</td>\n",
       "      <td>191.0</td>\n",
       "      <td>14.3</td>\n",
       "      <td>75.0</td>\n",
       "      <td>9</td>\n",
       "      <td>28</td>\n",
       "    </tr>\n",
       "    <tr>\n",
       "      <th>151</th>\n",
       "      <td>18.00</td>\n",
       "      <td>131.0</td>\n",
       "      <td>8.0</td>\n",
       "      <td>76.0</td>\n",
       "      <td>9</td>\n",
       "      <td>29</td>\n",
       "    </tr>\n",
       "    <tr>\n",
       "      <th>152</th>\n",
       "      <td>20.00</td>\n",
       "      <td>223.0</td>\n",
       "      <td>11.5</td>\n",
       "      <td>68.0</td>\n",
       "      <td>9</td>\n",
       "      <td>30</td>\n",
       "    </tr>\n",
       "  </tbody>\n",
       "</table>\n",
       "<p>153 rows × 6 columns</p>\n",
       "</div>"
      ],
      "text/plain": [
       "     Ozone  Solar.R  Wind  Temp  Month  Day\n",
       "0    41.00    190.0   7.4  67.0      5    1\n",
       "1    36.00    118.0   8.0  72.0      5    2\n",
       "2    12.00    149.0  12.6  74.0      5    3\n",
       "3    18.00    313.0  11.5  62.0      5    4\n",
       "4    22.96    205.0  14.3  56.0      5    5\n",
       "..     ...      ...   ...   ...    ...  ...\n",
       "148  30.00    193.0   6.9  70.0      9   26\n",
       "149  31.57    145.0  13.2  77.0      9   27\n",
       "150  14.00    191.0  14.3  75.0      9   28\n",
       "151  18.00    131.0   8.0  76.0      9   29\n",
       "152  20.00    223.0  11.5  68.0      9   30\n",
       "\n",
       "[153 rows x 6 columns]"
      ]
     },
     "execution_count": 346,
     "metadata": {},
     "output_type": "execute_result"
    }
   ],
   "source": [
    "for index,row in air_ratio.iterrows():\n",
    "    if(pd.isnull(row['Ozone'])):\n",
    "        air_ratio.loc[index,'Ozone'] = ratio * air_ratio['Temp'][index]\n",
    "        \n",
    "air_ratio"
   ]
  },
  {
   "cell_type": "code",
   "execution_count": 347,
   "id": "6a1c84ee",
   "metadata": {},
   "outputs": [
    {
     "data": {
      "text/plain": [
       "False    153\n",
       "Name: Ozone, dtype: int64"
      ]
     },
     "execution_count": 347,
     "metadata": {},
     "output_type": "execute_result"
    }
   ],
   "source": [
    "air_ratio['Ozone'].isnull().value_counts()"
   ]
  },
  {
   "cell_type": "markdown",
   "id": "7374c2c4",
   "metadata": {},
   "source": [
    "<html>\n",
    "<h4> d : Create a new data set called air_complete from the air_ratio data set. Use linear regression to impute the missing values of Wind using Ozone as the independent variable in the air_complete data set.\n",
    "    </html>"
   ]
  },
  {
   "cell_type": "code",
   "execution_count": 348,
   "id": "ef03d5d1",
   "metadata": {},
   "outputs": [],
   "source": [
    "air_complete=air_ratio.copy()"
   ]
  },
  {
   "cell_type": "code",
   "execution_count": 349,
   "id": "c6e8293d",
   "metadata": {},
   "outputs": [
    {
     "data": {
      "text/html": [
       "<div>\n",
       "<style scoped>\n",
       "    .dataframe tbody tr th:only-of-type {\n",
       "        vertical-align: middle;\n",
       "    }\n",
       "\n",
       "    .dataframe tbody tr th {\n",
       "        vertical-align: top;\n",
       "    }\n",
       "\n",
       "    .dataframe thead th {\n",
       "        text-align: right;\n",
       "    }\n",
       "</style>\n",
       "<table border=\"1\" class=\"dataframe\">\n",
       "  <thead>\n",
       "    <tr style=\"text-align: right;\">\n",
       "      <th></th>\n",
       "      <th>Wind</th>\n",
       "      <th>Ozone</th>\n",
       "    </tr>\n",
       "  </thead>\n",
       "  <tbody>\n",
       "    <tr>\n",
       "      <th>0</th>\n",
       "      <td>7.4</td>\n",
       "      <td>41.00</td>\n",
       "    </tr>\n",
       "    <tr>\n",
       "      <th>1</th>\n",
       "      <td>8.0</td>\n",
       "      <td>36.00</td>\n",
       "    </tr>\n",
       "    <tr>\n",
       "      <th>2</th>\n",
       "      <td>12.6</td>\n",
       "      <td>12.00</td>\n",
       "    </tr>\n",
       "    <tr>\n",
       "      <th>3</th>\n",
       "      <td>11.5</td>\n",
       "      <td>18.00</td>\n",
       "    </tr>\n",
       "    <tr>\n",
       "      <th>4</th>\n",
       "      <td>14.3</td>\n",
       "      <td>22.96</td>\n",
       "    </tr>\n",
       "  </tbody>\n",
       "</table>\n",
       "</div>"
      ],
      "text/plain": [
       "   Wind  Ozone\n",
       "0   7.4  41.00\n",
       "1   8.0  36.00\n",
       "2  12.6  12.00\n",
       "3  11.5  18.00\n",
       "4  14.3  22.96"
      ]
     },
     "execution_count": 349,
     "metadata": {},
     "output_type": "execute_result"
    }
   ],
   "source": [
    "complete=air_complete[['Wind','Ozone']]\n",
    "complete.head()"
   ]
  },
  {
   "cell_type": "code",
   "execution_count": 350,
   "id": "965bf180",
   "metadata": {},
   "outputs": [],
   "source": [
    "imp = IterativeImputer(max_iter=10, random_state=0)\n",
    "imp.fit(complete)\n",
    "imputed=imp.transform(complete)\n",
    "air_complete['Wind']=imputed\n"
   ]
  },
  {
   "cell_type": "code",
   "execution_count": 351,
   "id": "a5472943",
   "metadata": {},
   "outputs": [
    {
     "data": {
      "text/plain": [
       "Ozone      False\n",
       "Solar.R    False\n",
       "Wind       False\n",
       "Temp       False\n",
       "Month      False\n",
       "Day        False\n",
       "dtype: bool"
      ]
     },
     "execution_count": 351,
     "metadata": {},
     "output_type": "execute_result"
    }
   ],
   "source": [
    "air_complete.isnull().any() #to check the null values in the dataset"
   ]
  },
  {
   "cell_type": "code",
   "execution_count": 352,
   "id": "50382a02",
   "metadata": {},
   "outputs": [
    {
     "data": {
      "text/plain": [
       "Ozone  Solar.R  Wind   Temp   Month  Day  \n",
       "False  False    False  False  False  False    153\n",
       "dtype: int64"
      ]
     },
     "execution_count": 352,
     "metadata": {},
     "output_type": "execute_result"
    }
   ],
   "source": [
    "air_complete.isnull().value_counts()"
   ]
  },
  {
   "cell_type": "code",
   "execution_count": null,
   "id": "ccfc2673",
   "metadata": {},
   "outputs": [],
   "source": []
  }
 ],
 "metadata": {
  "kernelspec": {
   "display_name": "Python 3",
   "language": "python",
   "name": "python3"
  },
  "language_info": {
   "codemirror_mode": {
    "name": "ipython",
    "version": 3
   },
   "file_extension": ".py",
   "mimetype": "text/x-python",
   "name": "python",
   "nbconvert_exporter": "python",
   "pygments_lexer": "ipython3",
   "version": "3.8.8"
  }
 },
 "nbformat": 4,
 "nbformat_minor": 5
}
