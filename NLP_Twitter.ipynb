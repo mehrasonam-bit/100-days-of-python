{
  "nbformat": 4,
  "nbformat_minor": 0,
  "metadata": {
    "colab": {
      "name": "Homework_NLP_Twitter.ipynb",
      "provenance": []
    },
    "kernelspec": {
      "name": "python3",
      "display_name": "Python 3"
    }
  },
  "cells": [
    {
      "cell_type": "code",
      "metadata": {
        "id": "1v0viAqh7MIr"
      },
      "source": [
        "# import the libraries\n",
        "from textblob import TextBlob\n",
        "# needed for the library to work in Google Colab\n",
        "import nltk\n",
        "nltk.download('punkt')\n",
        "from nltk.corpus import stopwords\n",
        "\n",
        "import tweepy\n",
        "\n",
        "\n",
        "\n",
        "from wordcloud import WordCloud\n",
        "\n",
        "import pandas as pd\n",
        "import numpy as np\n",
        "\n",
        "import re\n",
        "\n",
        "import matplotlib.pyplot as plt\n",
        "%matplotlib inline\n",
        "\n",
        "\n",
        "# for more styles, please follow https://matplotlib.org/3.1.1/gallery/style_sheets/style_sheets_reference.html\n",
        "plt.style.use('bmh')"
      ],
      "execution_count": null,
      "outputs": []
    },
    {
      "cell_type": "code",
      "metadata": {
        "id": "J3Hr_Y8h7Rnr"
      },
      "source": [
        "#connecting to Twitter\n",
        "\n",
        "\"\"\"\n",
        "YOU MUST HAVE YOUR TWITTER DEVELOPER ACCOUNT SET UP, APPLICATION CREATED AND KEYS AND TOKENS SAVED\n",
        "\"\"\"\n",
        "\n",
        "# Creating the authentication object\n",
        "\n",
        "# will take consumer key and consumer secret\n",
        "   #OAuth requires a user to log into the service it is trying to log into\n",
        "authenticate = tweepy.OAuthHandler(consumerKey,consumerSecret)\n",
        "\n",
        "# Set the access token and access secret\n",
        "authenticate.set_access_token(accessToken,accessSecret)\n",
        "\n",
        "# Create the API object while passing in the auth information\n",
        "\n",
        "api = tweepy.API(authenticate,wait_on_rate_limit=True )"
      ],
      "execution_count": null,
      "outputs": []
    },
    {
      "cell_type": "code",
      "metadata": {
        "id": "EY0iCo5_712y"
      },
      "source": [
        "\n",
        "\"\"\"\n",
        "through the use of api.user_timeline method \n",
        "a.get the latest 100 tweets from a well-known person, \n",
        "b.clean them up\n",
        "c. perform a sentiment analysis\n",
        "d. create two visuals\n",
        "\"\"\""
      ],
      "execution_count": null,
      "outputs": []
    }
  ]
}