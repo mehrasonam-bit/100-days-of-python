{
  "nbformat": 4,
  "nbformat_minor": 0,
  "metadata": {
    "colab": {
      "name": "8th_lecture_Yelp_Covid_API.ipynb",
      "provenance": [],
      "collapsed_sections": []
    },
    "kernelspec": {
      "name": "python3",
      "display_name": "Python 3"
    },
    "language_info": {
      "name": "python"
    }
  },
  "cells": [
    {
      "cell_type": "markdown",
      "metadata": {
        "id": "ieuZol51HYc_"
      },
      "source": [
        "## Student Name \n",
        "\n",
        "###### Sonam Mehra\n",
        "###### Ray Lee\n",
        "###### Opeoluwa Mosuro\n",
        "######Ganesh Prasad Neupane\n",
        "###### Jupsimar Singh\n"
      ]
    },
    {
      "cell_type": "code",
      "metadata": {
        "id": "D-_5ucwCHUQx"
      },
      "source": [
        "# importing the libraries\n",
        "import json\n",
        "import requests\n",
        "import pandas as pd\n",
        "from pandas import json_normalize\n",
        "import seaborn as sns\n",
        "import matplotlib.pyplot as plt\n"
      ],
      "execution_count": null,
      "outputs": []
    },
    {
      "cell_type": "markdown",
      "metadata": {
        "id": "RcaWXSwqHayn"
      },
      "source": [
        "## Working with COVID data"
      ]
    },
    {
      "cell_type": "code",
      "metadata": {
        "id": "8Yz-lJjSHeUC"
      },
      "source": [
        "#endpoint\n",
        "url ='https://api.covid19api.com/summary'"
      ],
      "execution_count": null,
      "outputs": []
    },
    {
      "cell_type": "code",
      "metadata": {
        "id": "QCBQSdOkCjJW"
      },
      "source": [
        "response = requests.get(url).json()\n",
        "response"
      ],
      "execution_count": null,
      "outputs": []
    },
    {
      "cell_type": "code",
      "metadata": {
        "id": "gCe_hE0mIjW1"
      },
      "source": [
        "print(response.keys())"
      ],
      "execution_count": null,
      "outputs": []
    },
    {
      "cell_type": "code",
      "metadata": {
        "id": "pdK7jQmpMYL8"
      },
      "source": [
        "#converts Json dictonary to dataframe\n",
        "recs = response['Countries']\n",
        "#normalize function is used to flatten data\n",
        "df = json_normalize(recs)\n",
        "\n",
        "df.head()"
      ],
      "execution_count": null,
      "outputs": []
    },
    {
      "cell_type": "code",
      "metadata": {
        "id": "XETINfyPaHIY"
      },
      "source": [
        "#drop the column not needed\n",
        "df.drop(['ID'],axis=1,inplace=True)"
      ],
      "execution_count": null,
      "outputs": []
    },
    {
      "cell_type": "code",
      "metadata": {
        "id": "4rn-vhxhaih2"
      },
      "source": [
        "#set index as country\n",
        "df.set_index('Country')"
      ],
      "execution_count": null,
      "outputs": []
    },
    {
      "cell_type": "markdown",
      "metadata": {
        "id": "eExgcPffFIeI"
      },
      "source": [
        "# Save dataset into csv file\n"
      ]
    },
    {
      "cell_type": "code",
      "metadata": {
        "id": "qEQHTU70g7DY"
      },
      "source": [
        "df.to_csv(\"Covid.csv\")"
      ],
      "execution_count": null,
      "outputs": []
    },
    {
      "cell_type": "markdown",
      "metadata": {
        "id": "EdGf8XXNpG40"
      },
      "source": [
        "## Question1 : Plot 10 countries with highest total confirmed covid cases.\n"
      ]
    },
    {
      "cell_type": "code",
      "metadata": {
        "id": "tZjwaMaybeHj"
      },
      "source": [
        "#subset dataframe for relevant data for chart\n",
        "df_10 = df.nlargest(10,'TotalConfirmed')[['Country','TotalConfirmed']]\n",
        "#seaborn\n",
        "sns.set_color_codes(\"muted\")\n",
        "#barplot\n",
        "sns.barplot(x='Country', y = 'TotalConfirmed', data=df_10, color='b').set_title(\"Top 10 Countries for Total Confirmed Cases\")\n",
        "plt.xticks(rotation=90)\n",
        "plt.show()"
      ],
      "execution_count": null,
      "outputs": []
    },
    {
      "cell_type": "markdown",
      "metadata": {
        "id": "vJNInpO7Ht_D"
      },
      "source": [
        "# Working with Yelp Data"
      ]
    },
    {
      "cell_type": "code",
      "metadata": {
        "id": "pB4Y9UKyG8GZ"
      },
      "source": [
        "#api key for the yelp\n",
        "api_key='edzpO5GSEJgeyIQ9KXU1uUmrvBvvzcIIzV5zpw0OAf4KFWMG7uPeD2i1wE7LJZRprVJRBYhHTmZdBcWN0pEQVunCvorCPNqlyaGu7Zq-oW16QDsGKJRkvcobGpXtYHYx'\n",
        "\n"
      ],
      "execution_count": null,
      "outputs": []
    },
    {
      "cell_type": "markdown",
      "metadata": {
        "id": "7NLAlD22I5UR"
      },
      "source": [
        "you will need to have your api token stored on Google Drive to connect to yelp"
      ]
    },
    {
      "cell_type": "code",
      "metadata": {
        "id": "IfPoKL9qH1zA"
      },
      "source": [
        "#endpoint\n",
        "api_url = 'https://api.yelp.com/v3/businesses/search'"
      ],
      "execution_count": null,
      "outputs": []
    },
    {
      "cell_type": "code",
      "metadata": {
        "id": "2rVBAlerHpQ5"
      },
      "source": [
        "#passing the parameters to get the response \n",
        "params = {\"term\":\"pharmacies\", \"limit\": 50, \"location\":\"Toronto, ON\",\"sort by\":\"review_count\"}\n",
        "headers = {'Authorization': 'Bearer %s' % api_key}\n",
        "\n"
      ],
      "execution_count": null,
      "outputs": []
    },
    {
      "cell_type": "code",
      "metadata": {
        "id": "oJHj5Yo9IPhH"
      },
      "source": [
        "#get the response\n",
        "response = requests.get(api_url, params = params, headers = headers) "
      ],
      "execution_count": null,
      "outputs": []
    },
    {
      "cell_type": "code",
      "metadata": {
        "id": "-p8vN1KYI_Ic"
      },
      "source": [
        "#loading json \n",
        "result=response.json()\n",
        "\n",
        "print(result)"
      ],
      "execution_count": null,
      "outputs": []
    },
    {
      "cell_type": "code",
      "metadata": {
        "id": "p4qqzMnkKZ3F"
      },
      "source": [
        "#displays keys of the dictonary\n",
        "result.keys()"
      ],
      "execution_count": null,
      "outputs": []
    },
    {
      "cell_type": "code",
      "metadata": {
        "id": "z2n0V4OyKsTQ"
      },
      "source": [
        "#converts Json dictonary to dataframe\n",
        "pharm = result['businesses']\n",
        "#normalize function is used to flatten data\n",
        "df_pharm = json_normalize(pharm)\n",
        "\n",
        "df_pharm.head()"
      ],
      "execution_count": null,
      "outputs": []
    },
    {
      "cell_type": "code",
      "metadata": {
        "id": "3ZvEaJaDLNMA"
      },
      "source": [
        "#dropping column not required\n",
        "df_pharm.drop(['id','alias'],axis=1,inplace=True)\n"
      ],
      "execution_count": null,
      "outputs": []
    },
    {
      "cell_type": "markdown",
      "metadata": {
        "id": "o9Tzbx9ri6qW"
      },
      "source": [
        "#Save dataframe to CSV File"
      ]
    },
    {
      "cell_type": "code",
      "metadata": {
        "id": "lpED-sSbi51O"
      },
      "source": [
        "df_pharm.to_csv(\"Pharmacies_Toronto.csv\")"
      ],
      "execution_count": null,
      "outputs": []
    },
    {
      "cell_type": "markdown",
      "metadata": {
        "id": "GO9nQ6dvsqZO"
      },
      "source": [
        "#Question Plot the pharmacies having Review count greater than 5\n",
        "\n"
      ]
    },
    {
      "cell_type": "code",
      "metadata": {
        "id": "SFXPOukUq2YW"
      },
      "source": [
        "#filter the dataset according to the question\n",
        "df_review_count= df_pharm[df_pharm['review_count']>5]\n",
        "df_review_count"
      ],
      "execution_count": null,
      "outputs": []
    },
    {
      "cell_type": "markdown",
      "metadata": {
        "id": "8kPxem3wsNcY"
      },
      "source": [
        ""
      ]
    },
    {
      "cell_type": "code",
      "metadata": {
        "colab": {
          "base_uri": "https://localhost:8080/",
          "height": 294
        },
        "id": "bYrqNOsDKwSc",
        "outputId": "48e0c36d-8bc4-474d-f3eb-f63b71ae771b"
      },
      "source": [
        "#plot using seaborn\n",
        "\n",
        "title = 'Review Count of Pharmacies greater than 5'\n",
        "\n",
        "fig=sns.barplot(x='review_count', y='name', data=df_review_count, color = 'g').set_title(title)\n",
        "#set labels\n",
        "plt.xlabel(\"Review Count\") \n",
        "plt.ylabel(\"Pharmacy\")\n",
        "plt.show(fig)\n"
      ],
      "execution_count": null,
      "outputs": [
        {
          "output_type": "display_data",
          "data": {
            "image/png": "[encoded data removed]",
            "text/plain": [
              "<Figure size 432x288 with 1 Axes>"
            ]
          },
          "metadata": {
            "tags": [],
            "needs_background": "light"
          }
        }
      ]
    }
  ]
}