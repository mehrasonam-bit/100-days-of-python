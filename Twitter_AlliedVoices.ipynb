{
  "nbformat": 4,
  "nbformat_minor": 0,
  "metadata": {
    "colab": {
      "name": "Twitter-AlliedVoices.ipynb",
      "provenance": []
    },
    "kernelspec": {
      "name": "python3",
      "display_name": "Python 3"
    },
    "language_info": {
      "name": "python"
    }
  },
  "cells": [
    {
      "cell_type": "code",
      "source": [
        "pip install xlsxwriter"
      ],
      "metadata": {
        "colab": {
          "base_uri": "https://localhost:8080/"
        },
        "id": "lm6Q7dgBZI8-",
        "outputId": "969782a5-c6bb-43b4-fbb1-a61e4ebd9ade"
      },
      "execution_count": 1,
      "outputs": [
        {
          "output_type": "stream",
          "name": "stdout",
          "text": [
            "Requirement already satisfied: xlsxwriter in /usr/local/lib/python3.7/dist-packages (3.0.2)\n"
          ]
        }
      ]
    },
    {
      "cell_type": "code",
      "execution_count": 2,
      "metadata": {
        "id": "59bamu9SY5q6",
        "colab": {
          "base_uri": "https://localhost:8080/"
        },
        "outputId": "e2ba85e7-3596-49ef-8246-fc0b789600a8"
      },
      "outputs": [
        {
          "output_type": "stream",
          "name": "stdout",
          "text": [
            "[nltk_data] Downloading package punkt to /root/nltk_data...\n",
            "[nltk_data]   Package punkt is already up-to-date!\n"
          ]
        }
      ],
      "source": [
        "# import the libraries\n",
        "from textblob import TextBlob\n",
        "# needed for the library to work in Google Colab\n",
        "import nltk\n",
        "nltk.download('punkt')\n",
        "from nltk.corpus import stopwords\n",
        "\n",
        "import tweepy\n",
        "import string\n",
        "\n",
        "\n",
        "from wordcloud import WordCloud\n",
        "\n",
        "import pandas as pd\n",
        "import numpy as np\n",
        "\n",
        "import re\n",
        "import json\n",
        "from IPython.display import HTML"
      ]
    },
    {
      "cell_type": "code",
      "source": [
        "#connecting to twitter \n",
        "\n",
        "#storing a csv file that contains information needed to access Twitter API into some variable. You can directly insert keys and tokens into code.\n",
        "\n",
        "TwitterAPI=pd.read_csv(\"TwitterKey.csv\")"
      ],
      "metadata": {
        "id": "dELw-eeyZcQV"
      },
      "execution_count": 3,
      "outputs": []
    },
    {
      "cell_type": "code",
      "source": [
        "# Twitter API credentials\n",
        "\n",
        "# Extract all the tokens from CSV files\n",
        "\n",
        "\n",
        "APIkey=TwitterAPI['keys'][0]\n",
        "APIsecretkey=TwitterAPI['keys'][1]\n",
        "APIaccesstoken=TwitterAPI['keys'][2]\n",
        "APItokensecret=TwitterAPI['keys'][3]"
      ],
      "metadata": {
        "id": "ZdY-7-lxaKXY"
      },
      "execution_count": 4,
      "outputs": []
    },
    {
      "cell_type": "code",
      "source": [
        "#create authentication object \n",
        "\n",
        "# will take key and secret key\n",
        "#OAuth requires a user to log into the service it is trying to log into\n",
        "\n",
        "authenticate=tweepy.OAuthHandler(APIkey,APIsecretkey)\n",
        "\n",
        "\n",
        "#set the access token and access secret\n",
        "\n",
        "\n",
        "authenticate.set_access_token(APIaccesstoken,APItokensecret)\n",
        "\n",
        "#create the API object while passing in the auth information\n",
        "\n",
        "api=tweepy.API(authenticate,wait_on_rate_limit=True)"
      ],
      "metadata": {
        "id": "LjpAKYq5boNF"
      },
      "execution_count": 5,
      "outputs": []
    },
    {
      "cell_type": "code",
      "source": [
        "#gets the list of all the tweets in the account\n",
        "tweets= list(tweepy.Cursor(api.user_timeline,screen_name=\"NYPDHateCrimes\",count=10,lang=\"en\",tweet_mode=\"extended\").items())"
      ],
      "metadata": {
        "id": "oieG7G3pBZR5"
      },
      "execution_count": 6,
      "outputs": []
    },
    {
      "cell_type": "code",
      "source": [
        "#extract the all the data from json format and create a dictonary\n",
        "output = []\n",
        "for tweet in tweets:\n",
        "  if 'retweeted_status' in dir(tweet):\n",
        "    text_tweet=tweet.retweeted_status.full_text\n",
        "  else:\n",
        "    text_tweet = tweet.full_text\n",
        "    \n",
        "  retweet_count = tweet.retweet_count\n",
        "  created_at = tweet.created_at\n",
        "  \n",
        "  line = {'text' : text_tweet,  'retweet_count' : retweet_count, 'created_at' : created_at}\n",
        "  output.append(line)"
      ],
      "metadata": {
        "id": "8Pwo4F2tC-9d"
      },
      "execution_count": 7,
      "outputs": []
    },
    {
      "cell_type": "code",
      "source": [
        "#set the column width of the dataframe\n",
        "pd.set_option('max_colwidth', 200)"
      ],
      "metadata": {
        "id": "eFhbErKz192v"
      },
      "execution_count": 8,
      "outputs": []
    },
    {
      "cell_type": "code",
      "source": [
        "#create a dataframe for the output file\n",
        "twitter = pd.DataFrame(output)\n"
      ],
      "metadata": {
        "id": "w07b_ELhEtHY"
      },
      "execution_count": 9,
      "outputs": []
    },
    {
      "cell_type": "code",
      "source": [
        "#cleans the tweets\n",
        "def CleanTweets(text):\n",
        "  \n",
        "  text = re.sub(r'@[A-Za-z0-9]+', '',text)   #removes @mentions\n",
        "  # removes \"#\"\n",
        "  text= re.sub(r'#', '',text)\n",
        "  # removes hyperlink\n",
        "  text= re.sub(r'https?:\\/\\/\\S+', '',text)\n",
        "  #removes retweets followed by spaces\n",
        "  text = re.sub(r'RT[\\s]+', '', text)\n",
        "\n",
        "\n",
        "  return text"
      ],
      "metadata": {
        "id": "Tp6Y2B7W2Fhj"
      },
      "execution_count": 10,
      "outputs": []
    },
    {
      "cell_type": "code",
      "source": [
        "string.punctuation"
      ],
      "metadata": {
        "colab": {
          "base_uri": "https://localhost:8080/",
          "height": 35
        },
        "id": "L51NLowwpj47",
        "outputId": "9d657883-fdee-4d28-ffa8-c15787870840"
      },
      "execution_count": 11,
      "outputs": [
        {
          "output_type": "execute_result",
          "data": {
            "application/vnd.google.colaboratory.intrinsic+json": {
              "type": "string"
            },
            "text/plain": [
              "'!\"#$%&\\'()*+,-./:;<=>?@[\\\\]^_`{|}~'"
            ]
          },
          "metadata": {},
          "execution_count": 11
        }
      ]
    },
    {
      "cell_type": "code",
      "source": [
        "#removes the punctuation\n",
        "def remove_punct(text):\n",
        "    text  = \"\".join([char for char in text if char not in string.punctuation])\n",
        "    text = re.sub('[0-9]+', '', text)\n",
        "    return text"
      ],
      "metadata": {
        "id": "eUne38c42NDy"
      },
      "execution_count": 12,
      "outputs": []
    },
    {
      "cell_type": "code",
      "source": [
        "#apply the function\n",
        "twitter['filtered_tweets']=twitter['text'].apply(CleanTweets)"
      ],
      "metadata": {
        "id": "T__jYoCz2Qdo"
      },
      "execution_count": 13,
      "outputs": []
    },
    {
      "cell_type": "code",
      "source": [
        "#apply the remove punct function\n",
        "twitter['filtered_tweets']=twitter['filtered_tweets'].apply(remove_punct)"
      ],
      "metadata": {
        "id": "asZB4Ifh2iwU"
      },
      "execution_count": 14,
      "outputs": []
    },
    {
      "cell_type": "code",
      "source": [
        "#to extract the links from the tweets\n",
        "twitter['text']=twitter['text'].astype(str)\n",
        "pattern = r'(https?:\\/\\/(?:www\\.)?[-a-zA-Z0-9@:%._+~#=]{1,256}\\.[a-zA-Z0-9()]{1,6}[-a-zA-Z0-9()@:%_+.~#?&/=]*)'\n",
        "twitter['links'] = ''\n",
        "twitter['links']= twitter['text'].str.extract(pattern, expand=True)\n",
        "\n"
      ],
      "metadata": {
        "id": "j1Ud4MjcoVd3"
      },
      "execution_count": 15,
      "outputs": []
    },
    {
      "cell_type": "code",
      "source": [
        "#removes emoji from the tweets\n",
        "def deEmojify(text):\n",
        "    return text.encode('ascii', 'ignore').decode('ascii')"
      ],
      "metadata": {
        "id": "QcsZjlRp3Pzz"
      },
      "execution_count": 16,
      "outputs": []
    },
    {
      "cell_type": "code",
      "source": [
        "#apply function demojify\n",
        "twitter['filtered_tweets']=twitter['filtered_tweets'].apply(deEmojify)"
      ],
      "metadata": {
        "id": "SAeoi_ig3hFl"
      },
      "execution_count": 17,
      "outputs": []
    },
    {
      "cell_type": "code",
      "source": [
        "#replacing empty strings or row with NAN as python doesn't recognize empty value\n",
        "twitter['filtered_tweets'].replace(' ', np.nan, inplace=True)"
      ],
      "metadata": {
        "id": "pbqrGRyh3lqY"
      },
      "execution_count": 18,
      "outputs": []
    },
    {
      "cell_type": "code",
      "source": [
        "twitter = twitter.replace('\\n',' ', regex=True)"
      ],
      "metadata": {
        "id": "lxQiiLijGcMT"
      },
      "execution_count": 19,
      "outputs": []
    },
    {
      "cell_type": "code",
      "source": [
        "# #to make the links clickable\n",
        "# def make_clickable(val):\n",
        "#     return f'<a target=\"_blank\" href=\"{val}\">{val}</a>'\n",
        "\n",
        "# twitter.style.format({'links': make_clickable})"
      ],
      "metadata": {
        "id": "o-VvGgpkuSR-"
      },
      "execution_count": 20,
      "outputs": []
    },
    {
      "cell_type": "code",
      "source": [
        "twitter"
      ],
      "metadata": {
        "colab": {
          "base_uri": "https://localhost:8080/",
          "height": 1000
        },
        "id": "L0vbrypAuggz",
        "outputId": "ba81b92b-f7d5-409f-d5ee-1f31dcb9a5fe"
      },
      "execution_count": 21,
      "outputs": [
        {
          "output_type": "execute_result",
          "data": {
            "text/html": [
              "\n",
              "  <div id=\"df-253ca8f7-5617-4062-b6de-1570b38b45b5\">\n",
              "    <div class=\"colab-df-container\">\n",
              "      <div>\n",
              "<style scoped>\n",
              "    .dataframe tbody tr th:only-of-type {\n",
              "        vertical-align: middle;\n",
              "    }\n",
              "\n",
              "    .dataframe tbody tr th {\n",
              "        vertical-align: top;\n",
              "    }\n",
              "\n",
              "    .dataframe thead th {\n",
              "        text-align: right;\n",
              "    }\n",
              "</style>\n",
              "<table border=\"1\" class=\"dataframe\">\n",
              "  <thead>\n",
              "    <tr style=\"text-align: right;\">\n",
              "      <th></th>\n",
              "      <th>text</th>\n",
              "      <th>retweet_count</th>\n",
              "      <th>created_at</th>\n",
              "      <th>filtered_tweets</th>\n",
              "      <th>links</th>\n",
              "    </tr>\n",
              "  </thead>\n",
              "  <tbody>\n",
              "    <tr>\n",
              "      <th>0</th>\n",
              "      <td>We are closely monitoring the hostage situation in Colleyville, Texas and we’re praying for a peaceful and safe conclusion.  Out of an abundance of caution, the NYPD has deployed additional resour...</td>\n",
              "      <td>168</td>\n",
              "      <td>2022-01-16 03:30:50</td>\n",
              "      <td>We are closely monitoring the hostage situation in Colleyville Texas and were praying for a peaceful and safe conclusion  Out of an abundance of caution the NYPD has deployed additional resources ...</td>\n",
              "      <td>NaN</td>\n",
              "    </tr>\n",
              "    <tr>\n",
              "      <th>1</th>\n",
              "      <td>UPDATE: The Port Authority of New York and New Jersey Police Department has arrested Mohamed Hassanain for the January 3 attack on \"Mr. Singh,\" a Sikh taxi driver, at JFK airport. The incident is ...</td>\n",
              "      <td>102</td>\n",
              "      <td>2022-01-15 01:44:04</td>\n",
              "      <td>UPDATE The Port Authority of New York and New Jersey Police Department has arrested Mohamed Hassanain for the January  attack on Mr Singh a Sikh taxi driver at JFK airport The incident is being co...</td>\n",
              "      <td>https://t.co/PZb6nuS6jC</td>\n",
              "    </tr>\n",
              "    <tr>\n",
              "      <th>2</th>\n",
              "      <td>The Sikh Coalition is proud to continue providing legal assistance to Mr. Singh as the investigation moves forward. We thank the PAPD and office of @QueensDAKatz for their prompt action on this ca...</td>\n",
              "      <td>8</td>\n",
              "      <td>2022-01-15 01:07:16</td>\n",
              "      <td>The Sikh Coalition is proud to continue providing legal assistance to Mr Singh as the investigation moves forward We thank the PAPD and office of  for their prompt action on this case as well as  ...</td>\n",
              "      <td>NaN</td>\n",
              "    </tr>\n",
              "    <tr>\n",
              "      <th>3</th>\n",
              "      <td>🚨ARREST UPDATE from 10/23/21 incident in which an Asian male was assaulted at 303 5th Ave, Manhattan. Arrested: McNamara, Jordan, 18 New York, NY Charge: Assault 3rd Degree ⚠️Still seeking to iden...</td>\n",
              "      <td>33</td>\n",
              "      <td>2022-01-15 00:33:17</td>\n",
              "      <td>ARREST UPDATE from  incident in which an Asian male was assaulted at  th Ave Manhattan Arrested McNamara Jordan  New York NY Charge Assault rd Degree Still seeking to identify individual on the le...</td>\n",
              "      <td>https://t.co/Foe5u0dbVo</td>\n",
              "    </tr>\n",
              "    <tr>\n",
              "      <th>4</th>\n",
              "      <td>🚨ARREST UPDATE🚨 Hate Crime Task Force Detectives, assisted by Manhattan South Warrants, have arrested the individual wanted for this anti-Asian hate crime.  Arrested: Wactor, Ebony 41 Manhattan  C...</td>\n",
              "      <td>27</td>\n",
              "      <td>2022-01-13 20:05:41</td>\n",
              "      <td>ARREST UPDATE Hate Crime Task Force Detectives assisted by Manhattan South Warrants have arrested the individual wanted for this antiAsian hate crime  Arrested Wactor Ebony  Manhattan  Charges Ass...</td>\n",
              "      <td>https://t.co/GJPRkKERSp</td>\n",
              "    </tr>\n",
              "    <tr>\n",
              "      <th>...</th>\n",
              "      <td>...</td>\n",
              "      <td>...</td>\n",
              "      <td>...</td>\n",
              "      <td>...</td>\n",
              "      <td>...</td>\n",
              "    </tr>\n",
              "    <tr>\n",
              "      <th>488</th>\n",
              "      <td>APPREHENDED: Andrew Oshesky has been arrested by the @NYPDHateCrimes for destroying &amp;amp; desecrating (urinating upon) religious statues in front of a Brooklyn Roman Catholic Church on 12-2-18. Am...</td>\n",
              "      <td>29</td>\n",
              "      <td>2018-12-10 20:59:14</td>\n",
              "      <td>APPREHENDED Andrew Oshesky has been arrested by the  for destroying amp desecrating urinating upon religious statues in front of a Brooklyn Roman Catholic Church on  Among the charges Criminal Mis...</td>\n",
              "      <td>https://t.co/MS6cIVjsmF</td>\n",
              "    </tr>\n",
              "    <tr>\n",
              "      <th>489</th>\n",
              "      <td>UPDATE: Perpetrator arrested for URINATING on and TOPPLING religious statues in #Williamsburg @NYPD90Pct        Excellent work and community assistance. https://t.co/x3Z6mQy6Db</td>\n",
              "      <td>12</td>\n",
              "      <td>2018-12-10 20:31:29</td>\n",
              "      <td>UPDATE Perpetrator arrested for URINATING on and TOPPLING religious statues in Williamsburg         Excellent work and community assistance</td>\n",
              "      <td>https://t.co/x3Z6mQy6Db</td>\n",
              "    </tr>\n",
              "    <tr>\n",
              "      <th>490</th>\n",
              "      <td>NYPD Hate Crime Task Force joins in sharing our condolences on the passing of this American hero. https://t.co/i9iOHScr5Y</td>\n",
              "      <td>2</td>\n",
              "      <td>2018-12-09 05:02:51</td>\n",
              "      <td>NYPD Hate Crime Task Force joins in sharing our condolences on the passing of this American hero</td>\n",
              "      <td>https://t.co/i9iOHScr5Y</td>\n",
              "    </tr>\n",
              "    <tr>\n",
              "      <th>491</th>\n",
              "      <td>WANTED for punching a 20 year old female after making ANTI-GAY statement. Confines of the 112 Pct #foresthills https://t.co/9oLhSuXdsX</td>\n",
              "      <td>27</td>\n",
              "      <td>2018-12-08 18:58:29</td>\n",
              "      <td>WANTED for punching a  year old female after making ANTIGAY statement Confines of the  Pct foresthills</td>\n",
              "      <td>https://t.co/9oLhSuXdsX</td>\n",
              "    </tr>\n",
              "    <tr>\n",
              "      <th>492</th>\n",
              "      <td>WANTED by the Hate Crimes Task Force. Man depicted yelled racial slurs at—and SPIT in the face of—a 33-yr-old woman of color on the \"1\" train, 11-30-18, 9:25am. He's approx 5'7, 180 lbs, early 30'...</td>\n",
              "      <td>59</td>\n",
              "      <td>2018-12-07 16:51:06</td>\n",
              "      <td>WANTED by the Hate Crimes Task Force Man depicted yelled racial slurs atand SPIT in the face ofa yrold woman of color on the  train  am Hes approx   lbs early s amp unaware that New York has NO PL...</td>\n",
              "      <td>https://t.co/MM7w3pjJDr</td>\n",
              "    </tr>\n",
              "  </tbody>\n",
              "</table>\n",
              "<p>493 rows × 5 columns</p>\n",
              "</div>\n",
              "      <button class=\"colab-df-convert\" onclick=\"convertToInteractive('df-253ca8f7-5617-4062-b6de-1570b38b45b5')\"\n",
              "              title=\"Convert this dataframe to an interactive table.\"\n",
              "              style=\"display:none;\">\n",
              "        \n",
              "  <svg xmlns=\"http://www.w3.org/2000/svg\" height=\"24px\"viewBox=\"0 0 24 24\"\n",
              "       width=\"24px\">\n",
              "    <path d=\"M0 0h24v24H0V0z\" fill=\"none\"/>\n",
              "    <path d=\"M18.56 5.44l.94 2.06.94-2.06 2.06-.94-2.06-.94-.94-2.06-.94 2.06-2.06.94zm-11 1L8.5 8.5l.94-2.06 2.06-.94-2.06-.94L8.5 2.5l-.94 2.06-2.06.94zm10 10l.94 2.06.94-2.06 2.06-.94-2.06-.94-.94-2.06-.94 2.06-2.06.94z\"/><path d=\"M17.41 7.96l-1.37-1.37c-.4-.4-.92-.59-1.43-.59-.52 0-1.04.2-1.43.59L10.3 9.45l-7.72 7.72c-.78.78-.78 2.05 0 2.83L4 21.41c.39.39.9.59 1.41.59.51 0 1.02-.2 1.41-.59l7.78-7.78 2.81-2.81c.8-.78.8-2.07 0-2.86zM5.41 20L4 18.59l7.72-7.72 1.47 1.35L5.41 20z\"/>\n",
              "  </svg>\n",
              "      </button>\n",
              "      \n",
              "  <style>\n",
              "    .colab-df-container {\n",
              "      display:flex;\n",
              "      flex-wrap:wrap;\n",
              "      gap: 12px;\n",
              "    }\n",
              "\n",
              "    .colab-df-convert {\n",
              "      background-color: #E8F0FE;\n",
              "      border: none;\n",
              "      border-radius: 50%;\n",
              "      cursor: pointer;\n",
              "      display: none;\n",
              "      fill: #1967D2;\n",
              "      height: 32px;\n",
              "      padding: 0 0 0 0;\n",
              "      width: 32px;\n",
              "    }\n",
              "\n",
              "    .colab-df-convert:hover {\n",
              "      background-color: #E2EBFA;\n",
              "      box-shadow: 0px 1px 2px rgba(60, 64, 67, 0.3), 0px 1px 3px 1px rgba(60, 64, 67, 0.15);\n",
              "      fill: #174EA6;\n",
              "    }\n",
              "\n",
              "    [theme=dark] .colab-df-convert {\n",
              "      background-color: #3B4455;\n",
              "      fill: #D2E3FC;\n",
              "    }\n",
              "\n",
              "    [theme=dark] .colab-df-convert:hover {\n",
              "      background-color: #434B5C;\n",
              "      box-shadow: 0px 1px 3px 1px rgba(0, 0, 0, 0.15);\n",
              "      filter: drop-shadow(0px 1px 2px rgba(0, 0, 0, 0.3));\n",
              "      fill: #FFFFFF;\n",
              "    }\n",
              "  </style>\n",
              "\n",
              "      <script>\n",
              "        const buttonEl =\n",
              "          document.querySelector('#df-253ca8f7-5617-4062-b6de-1570b38b45b5 button.colab-df-convert');\n",
              "        buttonEl.style.display =\n",
              "          google.colab.kernel.accessAllowed ? 'block' : 'none';\n",
              "\n",
              "        async function convertToInteractive(key) {\n",
              "          const element = document.querySelector('#df-253ca8f7-5617-4062-b6de-1570b38b45b5');\n",
              "          const dataTable =\n",
              "            await google.colab.kernel.invokeFunction('convertToInteractive',\n",
              "                                                     [key], {});\n",
              "          if (!dataTable) return;\n",
              "\n",
              "          const docLinkHtml = 'Like what you see? Visit the ' +\n",
              "            '<a target=\"_blank\" href=https://colab.research.google.com/notebooks/data_table.ipynb>data table notebook</a>'\n",
              "            + ' to learn more about interactive tables.';\n",
              "          element.innerHTML = '';\n",
              "          dataTable['output_type'] = 'display_data';\n",
              "          await google.colab.output.renderOutput(dataTable, element);\n",
              "          const docLink = document.createElement('div');\n",
              "          docLink.innerHTML = docLinkHtml;\n",
              "          element.appendChild(docLink);\n",
              "        }\n",
              "      </script>\n",
              "    </div>\n",
              "  </div>\n",
              "  "
            ],
            "text/plain": [
              "                                                                                                                                                                                                        text  ...                    links\n",
              "0    We are closely monitoring the hostage situation in Colleyville, Texas and we’re praying for a peaceful and safe conclusion.  Out of an abundance of caution, the NYPD has deployed additional resour...  ...                      NaN\n",
              "1    UPDATE: The Port Authority of New York and New Jersey Police Department has arrested Mohamed Hassanain for the January 3 attack on \"Mr. Singh,\" a Sikh taxi driver, at JFK airport. The incident is ...  ...  https://t.co/PZb6nuS6jC\n",
              "2    The Sikh Coalition is proud to continue providing legal assistance to Mr. Singh as the investigation moves forward. We thank the PAPD and office of @QueensDAKatz for their prompt action on this ca...  ...                      NaN\n",
              "3    🚨ARREST UPDATE from 10/23/21 incident in which an Asian male was assaulted at 303 5th Ave, Manhattan. Arrested: McNamara, Jordan, 18 New York, NY Charge: Assault 3rd Degree ⚠️Still seeking to iden...  ...  https://t.co/Foe5u0dbVo\n",
              "4    🚨ARREST UPDATE🚨 Hate Crime Task Force Detectives, assisted by Manhattan South Warrants, have arrested the individual wanted for this anti-Asian hate crime.  Arrested: Wactor, Ebony 41 Manhattan  C...  ...  https://t.co/GJPRkKERSp\n",
              "..                                                                                                                                                                                                       ...  ...                      ...\n",
              "488  APPREHENDED: Andrew Oshesky has been arrested by the @NYPDHateCrimes for destroying &amp; desecrating (urinating upon) religious statues in front of a Brooklyn Roman Catholic Church on 12-2-18. Am...  ...  https://t.co/MS6cIVjsmF\n",
              "489                         UPDATE: Perpetrator arrested for URINATING on and TOPPLING religious statues in #Williamsburg @NYPD90Pct        Excellent work and community assistance. https://t.co/x3Z6mQy6Db  ...  https://t.co/x3Z6mQy6Db\n",
              "490                                                                                NYPD Hate Crime Task Force joins in sharing our condolences on the passing of this American hero. https://t.co/i9iOHScr5Y  ...  https://t.co/i9iOHScr5Y\n",
              "491                                                                   WANTED for punching a 20 year old female after making ANTI-GAY statement. Confines of the 112 Pct #foresthills https://t.co/9oLhSuXdsX  ...  https://t.co/9oLhSuXdsX\n",
              "492  WANTED by the Hate Crimes Task Force. Man depicted yelled racial slurs at—and SPIT in the face of—a 33-yr-old woman of color on the \"1\" train, 11-30-18, 9:25am. He's approx 5'7, 180 lbs, early 30'...  ...  https://t.co/MM7w3pjJDr\n",
              "\n",
              "[493 rows x 5 columns]"
            ]
          },
          "metadata": {},
          "execution_count": 21
        }
      ]
    },
    {
      "cell_type": "code",
      "source": [
        "\n",
        "\n",
        "# Creating an excel file\n",
        "\n",
        "writer = pd.ExcelWriter(\"nypd_tweet.xlsx\", engine='xlsxwriter')\n",
        "\n",
        "twitter.to_excel(writer, index=False)\n",
        "\n",
        "workbook  = writer.book\n",
        "\n",
        "#worksheet.write_url(0,4,'')\n",
        "\n",
        "\n",
        "writer.save()"
      ],
      "metadata": {
        "id": "ZAyulXrfYwN9"
      },
      "execution_count": 22,
      "outputs": []
    }
  ]
}